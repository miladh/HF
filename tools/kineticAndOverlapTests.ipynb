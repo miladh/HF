{
 "metadata": {
  "name": ""
 },
 "nbformat": 3,
 "nbformat_minor": 0,
 "worksheets": [
  {
   "cells": [
    {
     "cell_type": "code",
     "collapsed": false,
     "input": [
      "from numpy import *\n",
      "from sympy import *\n",
      "\n",
      "init_printing(use_unicode=True)"
     ],
     "language": "python",
     "metadata": {},
     "outputs": [],
     "prompt_number": 1
    },
    {
     "cell_type": "code",
     "collapsed": false,
     "input": [
      "lmax = 2\n",
      "combo=[]\n",
      "\n",
      "for iA in range(0,lmax+1):\n",
      "    for jA in range(0,lmax+1):\n",
      "        for kA in range(0,lmax+1):\n",
      "            for iB in range(0,lmax+1):\n",
      "                for jB in range(0,lmax+1):\n",
      "                    for kB in range(0,lmax+1):\n",
      "                        \n",
      "                        if(iA+jA+kA <= lmax and iB+jB+kB <=lmax):\n",
      "                            combo.append(array((iA, jA, kA, iB, jB, kB)))\n",
      "\n",
      "combo = array(combo)\n",
      "print combo.shape"
     ],
     "language": "python",
     "metadata": {},
     "outputs": [
      {
       "output_type": "stream",
       "stream": "stdout",
       "text": [
        "(100, 6)\n"
       ]
      }
     ],
     "prompt_number": 2
    },
    {
     "cell_type": "markdown",
     "metadata": {},
     "source": [
      "#Overlap"
     ]
    },
    {
     "cell_type": "code",
     "collapsed": false,
     "input": [
      "x, y, z = symbols('x, y, z')\n",
      "\n",
      "alpha = 0.2; beta = 0.3\n",
      "\n",
      "Ax = 1.2; Ay = 2.3; Az = 3.4\n",
      "Bx = -1.3; By = 1.4; Bz = -2.4\n",
      "\n",
      "rA = array([x - Ax, y - Ay, z - Az])\n",
      "rB = array([x - Bx, y - By, z - Bz])\n",
      "\n",
      "for i in range(0,combo.shape[0]):\n",
      "    iA, jA, kA = combo[i,:3]\n",
      "    iB, jB, kB = combo[i,3:6]\n",
      "    I = integrate(rA[0]**iA*rB[0]**iB*rA[1]**jA*rB[1]**jB*rA[2]**kA*rB[2]**kB\\\n",
      "                        *exp(-alpha*dot(rA,rA) - beta*dot(rB,rB)), (x, -oo, oo), (y, -oo, oo), (z, -oo, oo))\n",
      "    \n",
      "    print \"CHECK_CLOSE(\" + str(\"%.12e\" %I) + \", integrator.overlapIntegral(\" \\\n",
      "          + str(iA) + \",\" + str(jA) + \",\" + str(kA) + \",\" \\\n",
      "          + str(iB) + \",\" + str(jB) + \",\" + str(kB) + \")\" \\\n",
      "            + \", 1e-5);\""
     ],
     "language": "python",
     "metadata": {},
     "outputs": [
      {
       "output_type": "stream",
       "stream": "stdout",
       "text": [
        "CHECK_CLOSE(1.191723635809e-01, integrator.overlapIntegral(0,0,0,0,0,0), 1e-5);\n",
        "CHECK_CLOSE(2.764798835076e-01, integrator.overlapIntegral(0,0,0,0,0,1), 1e-5);"
       ]
      },
      {
       "output_type": "stream",
       "stream": "stdout",
       "text": [
        "\n",
        "CHECK_CLOSE(7.606056933184e-01, integrator.overlapIntegral(0,0,0,0,0,2), 1e-5);"
       ]
      },
      {
       "output_type": "stream",
       "stream": "stdout",
       "text": [
        "\n",
        "CHECK_CLOSE(4.290205088911e-02, integrator.overlapIntegral(0,0,0,0,1,0), 1e-5);"
       ]
      },
      {
       "output_type": "stream",
       "stream": "stdout",
       "text": [
        "\n",
        "CHECK_CLOSE(9.953275806273e-02, integrator.overlapIntegral(0,0,0,0,1,1), 1e-5);"
       ]
      },
      {
       "output_type": "stream",
       "stream": "stdout",
       "text": [
        "\n",
        "CHECK_CLOSE(1.346171019009e-01, integrator.overlapIntegral(0,0,0,0,2,0), 1e-5);"
       ]
      },
      {
       "output_type": "stream",
       "stream": "stdout",
       "text": [
        "\n",
        "CHECK_CLOSE(1.191723635809e-01, integrator.overlapIntegral(0,0,0,1,0,0), 1e-5);"
       ]
      },
      {
       "output_type": "stream",
       "stream": "stdout",
       "text": [
        "\n",
        "CHECK_CLOSE(2.764798835076e-01, integrator.overlapIntegral(0,0,0,1,0,1), 1e-5);"
       ]
      },
      {
       "output_type": "stream",
       "stream": "stdout",
       "text": [
        "\n",
        "CHECK_CLOSE(4.290205088911e-02, integrator.overlapIntegral(0,0,0,1,1,0), 1e-5);"
       ]
      },
      {
       "output_type": "stream",
       "stream": "stdout",
       "text": [
        "\n",
        "CHECK_CLOSE(2.383447271617e-01, integrator.overlapIntegral(0,0,0,2,0,0), 1e-5);"
       ]
      },
      {
       "output_type": "stream",
       "stream": "stdout",
       "text": [
        "\n",
        "CHECK_CLOSE(-4.147198252614e-01, integrator.overlapIntegral(0,0,1,0,0,0), 1e-5);"
       ]
      },
      {
       "output_type": "stream",
       "stream": "stdout",
       "text": [
        "\n",
        "CHECK_CLOSE(-8.429776310255e-01, integrator.overlapIntegral(0,0,1,0,0,1), 1e-5);"
       ]
      },
      {
       "output_type": "stream",
       "stream": "stdout",
       "text": [
        "\n",
        "CHECK_CLOSE(-2.093948045733e+00, integrator.overlapIntegral(0,0,1,0,0,2), 1e-5);"
       ]
      },
      {
       "output_type": "stream",
       "stream": "stdout",
       "text": [
        "\n",
        "CHECK_CLOSE(-1.492991370941e-01, integrator.overlapIntegral(0,0,1,0,1,0), 1e-5);"
       ]
      },
      {
       "output_type": "stream",
       "stream": "stdout",
       "text": [
        "\n",
        "CHECK_CLOSE(-3.034719471692e-01, integrator.overlapIntegral(0,0,1,0,1,1), 1e-5);"
       ]
      },
      {
       "output_type": "stream",
       "stream": "stdout",
       "text": [
        "\n",
        "CHECK_CLOSE(-4.684675146152e-01, integrator.overlapIntegral(0,0,1,0,2,0), 1e-5);"
       ]
      },
      {
       "output_type": "stream",
       "stream": "stdout",
       "text": [
        "\n",
        "CHECK_CLOSE(-4.147198252614e-01, integrator.overlapIntegral(0,0,1,1,0,0), 1e-5);"
       ]
      },
      {
       "output_type": "stream",
       "stream": "stdout",
       "text": [
        "\n",
        "CHECK_CLOSE(-8.429776310255e-01, integrator.overlapIntegral(0,0,1,1,0,1), 1e-5);"
       ]
      },
      {
       "output_type": "stream",
       "stream": "stdout",
       "text": [
        "\n",
        "CHECK_CLOSE(-1.492991370941e-01, integrator.overlapIntegral(0,0,1,1,1,0), 1e-5);"
       ]
      },
      {
       "output_type": "stream",
       "stream": "stdout",
       "text": [
        "\n",
        "CHECK_CLOSE(-8.294396505227e-01, integrator.overlapIntegral(0,0,1,2,0,0), 1e-5);"
       ]
      },
      {
       "output_type": "stream",
       "stream": "stdout",
       "text": [
        "\n",
        "CHECK_CLOSE(1.562397355490e+00, integrator.overlapIntegral(0,0,2,0,0,0), 1e-5);"
       ]
      },
      {
       "output_type": "stream",
       "stream": "stdout",
       "text": [
        "\n",
        "CHECK_CLOSE(2.795322214215e+00, integrator.overlapIntegral(0,0,2,0,0,1), 1e-5);"
       ]
      },
      {
       "output_type": "stream",
       "stream": "stdout",
       "text": [
        "\n",
        "CHECK_CLOSE(6.361589630418e+00, integrator.overlapIntegral(0,0,2,0,0,2), 1e-5);"
       ]
      },
      {
       "output_type": "stream",
       "stream": "stdout",
       "text": [
        "\n",
        "CHECK_CLOSE(5.624630479765e-01, integrator.overlapIntegral(0,0,2,0,1,0), 1e-5);"
       ]
      },
      {
       "output_type": "stream",
       "stream": "stdout",
       "text": [
        "\n",
        "CHECK_CLOSE(1.006315997117e+00, integrator.overlapIntegral(0,0,2,0,1,1), 1e-5);"
       ]
      },
      {
       "output_type": "stream",
       "stream": "stdout",
       "text": [
        "\n",
        "CHECK_CLOSE(1.764884052762e+00, integrator.overlapIntegral(0,0,2,0,2,0), 1e-5);"
       ]
      },
      {
       "output_type": "stream",
       "stream": "stdout",
       "text": [
        "\n",
        "CHECK_CLOSE(1.562397355490e+00, integrator.overlapIntegral(0,0,2,1,0,0), 1e-5);"
       ]
      },
      {
       "output_type": "stream",
       "stream": "stdout",
       "text": [
        "\n",
        "CHECK_CLOSE(2.795322214215e+00, integrator.overlapIntegral(0,0,2,1,0,1), 1e-5);"
       ]
      },
      {
       "output_type": "stream",
       "stream": "stdout",
       "text": [
        "\n",
        "CHECK_CLOSE(5.624630479765e-01, integrator.overlapIntegral(0,0,2,1,1,0), 1e-5);"
       ]
      },
      {
       "output_type": "stream",
       "stream": "stdout",
       "text": [
        "\n",
        "CHECK_CLOSE(3.124794710981e+00, integrator.overlapIntegral(0,0,2,2,0,0), 1e-5);"
       ]
      },
      {
       "output_type": "stream",
       "stream": "stdout",
       "text": [
        "\n",
        "CHECK_CLOSE(-6.435307633366e-02, integrator.overlapIntegral(0,1,0,0,0,0), 1e-5);"
       ]
      },
      {
       "output_type": "stream",
       "stream": "stdout",
       "text": [
        "\n",
        "CHECK_CLOSE(-1.492991370941e-01, integrator.overlapIntegral(0,1,0,0,0,1), 1e-5);"
       ]
      },
      {
       "output_type": "stream",
       "stream": "stdout",
       "text": [
        "\n",
        "CHECK_CLOSE(-4.107270743920e-01, integrator.overlapIntegral(0,1,0,0,0,2), 1e-5);"
       ]
      },
      {
       "output_type": "stream",
       "stream": "stdout",
       "text": [
        "\n",
        "CHECK_CLOSE(9.600525610073e-02, integrator.overlapIntegral(0,1,0,0,1,0), 1e-5);"
       ]
      },
      {
       "output_type": "stream",
       "stream": "stdout",
       "text": [
        "\n",
        "CHECK_CLOSE(2.227321941537e-01, integrator.overlapIntegral(0,1,0,0,1,1), 1e-5);"
       ]
      },
      {
       "output_type": "stream",
       "stream": "stdout",
       "text": [
        "\n",
        "CHECK_CLOSE(1.311086675171e-02, integrator.overlapIntegral(0,1,0,0,2,0), 1e-5);"
       ]
      },
      {
       "output_type": "stream",
       "stream": "stdout",
       "text": [
        "\n",
        "CHECK_CLOSE(-6.435307633366e-02, integrator.overlapIntegral(0,1,0,1,0,0), 1e-5);"
       ]
      },
      {
       "output_type": "stream",
       "stream": "stdout",
       "text": [
        "\n",
        "CHECK_CLOSE(-1.492991370941e-01, integrator.overlapIntegral(0,1,0,1,0,1), 1e-5);"
       ]
      },
      {
       "output_type": "stream",
       "stream": "stdout",
       "text": [
        "\n",
        "CHECK_CLOSE(9.600525610073e-02, integrator.overlapIntegral(0,1,0,1,1,0), 1e-5);"
       ]
      },
      {
       "output_type": "stream",
       "stream": "stdout",
       "text": [
        "\n",
        "CHECK_CLOSE(-1.287061526673e-01, integrator.overlapIntegral(0,1,0,2,0,0), 1e-5);"
       ]
      },
      {
       "output_type": "stream",
       "stream": "stdout",
       "text": [
        "\n",
        "CHECK_CLOSE(2.239487056411e-01, integrator.overlapIntegral(0,1,1,0,0,0), 1e-5);"
       ]
      },
      {
       "output_type": "stream",
       "stream": "stdout",
       "text": [
        "\n",
        "CHECK_CLOSE(4.552079207538e-01, integrator.overlapIntegral(0,1,1,0,0,1), 1e-5);"
       ]
      },
      {
       "output_type": "stream",
       "stream": "stdout",
       "text": [
        "\n",
        "CHECK_CLOSE(1.130731944696e+00, integrator.overlapIntegral(0,1,1,0,0,2), 1e-5);"
       ]
      },
      {
       "output_type": "stream",
       "stream": "stdout",
       "text": [
        "\n",
        "CHECK_CLOSE(-3.340982912306e-01, integrator.overlapIntegral(0,1,1,0,1,0), 1e-5);"
       ]
      },
      {
       "output_type": "stream",
       "stream": "stdout",
       "text": [
        "\n",
        "CHECK_CLOSE(-6.791027795542e-01, integrator.overlapIntegral(0,1,1,0,1,1), 1e-5);"
       ]
      },
      {
       "output_type": "stream",
       "stream": "stdout",
       "text": [
        "\n",
        "CHECK_CLOSE(-4.562581629595e-02, integrator.overlapIntegral(0,1,1,0,2,0), 1e-5);"
       ]
      },
      {
       "output_type": "stream",
       "stream": "stdout",
       "text": [
        "\n",
        "CHECK_CLOSE(2.239487056411e-01, integrator.overlapIntegral(0,1,1,1,0,0), 1e-5);"
       ]
      },
      {
       "output_type": "stream",
       "stream": "stdout",
       "text": [
        "\n",
        "CHECK_CLOSE(4.552079207538e-01, integrator.overlapIntegral(0,1,1,1,0,1), 1e-5);"
       ]
      },
      {
       "output_type": "stream",
       "stream": "stdout",
       "text": [
        "\n",
        "CHECK_CLOSE(-3.340982912306e-01, integrator.overlapIntegral(0,1,1,1,1,0), 1e-5);"
       ]
      },
      {
       "output_type": "stream",
       "stream": "stdout",
       "text": [
        "\n",
        "CHECK_CLOSE(4.478974112823e-01, integrator.overlapIntegral(0,1,1,2,0,0), 1e-5);"
       ]
      },
      {
       "output_type": "stream",
       "stream": "stdout",
       "text": [
        "\n",
        "CHECK_CLOSE(1.539230248010e-01, integrator.overlapIntegral(0,2,0,0,0,0), 1e-5);"
       ]
      },
      {
       "output_type": "stream",
       "stream": "stdout",
       "text": [
        "\n",
        "CHECK_CLOSE(3.571014175384e-01, integrator.overlapIntegral(0,2,0,0,0,1), 1e-5);"
       ]
      },
      {
       "output_type": "stream",
       "stream": "stdout",
       "text": [
        "\n",
        "CHECK_CLOSE(9.823983134901e-01, integrator.overlapIntegral(0,2,0,0,0,2), 1e-5);"
       ]
      },
      {
       "output_type": "stream",
       "stream": "stdout",
       "text": [
        "\n",
        "CHECK_CLOSE(-7.329386373895e-02, integrator.overlapIntegral(0,2,0,0,1,0), 1e-5);"
       ]
      },
      {
       "output_type": "stream",
       "stream": "stdout",
       "text": [
        "\n",
        "CHECK_CLOSE(-1.700417638744e-01, integrator.overlapIntegral(0,2,0,0,1,1), 1e-5);"
       ]
      },
      {
       "output_type": "stream",
       "stream": "stdout",
       "text": [
        "\n",
        "CHECK_CLOSE(3.195477460565e-01, integrator.overlapIntegral(0,2,0,0,2,0), 1e-5);"
       ]
      },
      {
       "output_type": "stream",
       "stream": "stdout",
       "text": [
        "\n",
        "CHECK_CLOSE(1.539230248010e-01, integrator.overlapIntegral(0,2,0,1,0,0), 1e-5);"
       ]
      },
      {
       "output_type": "stream",
       "stream": "stdout",
       "text": [
        "\n",
        "CHECK_CLOSE(3.571014175384e-01, integrator.overlapIntegral(0,2,0,1,0,1), 1e-5);"
       ]
      },
      {
       "output_type": "stream",
       "stream": "stdout",
       "text": [
        "\n",
        "CHECK_CLOSE(-7.329386373895e-02, integrator.overlapIntegral(0,2,0,1,1,0), 1e-5);"
       ]
      },
      {
       "output_type": "stream",
       "stream": "stdout",
       "text": [
        "\n",
        "CHECK_CLOSE(3.078460496021e-01, integrator.overlapIntegral(0,2,0,2,0,0), 1e-5);"
       ]
      },
      {
       "output_type": "stream",
       "stream": "stdout",
       "text": [
        "\n",
        "CHECK_CLOSE(-1.787585453713e-01, integrator.overlapIntegral(1,0,0,0,0,0), 1e-5);"
       ]
      },
      {
       "output_type": "stream",
       "stream": "stdout",
       "text": [
        "\n",
        "CHECK_CLOSE(-4.147198252614e-01, integrator.overlapIntegral(1,0,0,0,0,1), 1e-5);"
       ]
      },
      {
       "output_type": "stream",
       "stream": "stdout",
       "text": [
        "\n",
        "CHECK_CLOSE(-1.140908539978e+00, integrator.overlapIntegral(1,0,0,0,0,2), 1e-5);"
       ]
      },
      {
       "output_type": "stream",
       "stream": "stdout",
       "text": [
        "\n",
        "CHECK_CLOSE(-6.435307633366e-02, integrator.overlapIntegral(1,0,0,0,1,0), 1e-5);"
       ]
      },
      {
       "output_type": "stream",
       "stream": "stdout",
       "text": [
        "\n",
        "CHECK_CLOSE(-1.492991370941e-01, integrator.overlapIntegral(1,0,0,0,1,1), 1e-5);"
       ]
      },
      {
       "output_type": "stream",
       "stream": "stdout",
       "text": [
        "\n",
        "CHECK_CLOSE(-2.019256528514e-01, integrator.overlapIntegral(1,0,0,0,2,0), 1e-5);"
       ]
      },
      {
       "output_type": "stream",
       "stream": "stdout",
       "text": [
        "\n",
        "CHECK_CLOSE(-5.958618179043e-02, integrator.overlapIntegral(1,0,0,1,0,0), 1e-5);"
       ]
      },
      {
       "output_type": "stream",
       "stream": "stdout",
       "text": [
        "\n",
        "CHECK_CLOSE(-1.382399417538e-01, integrator.overlapIntegral(1,0,0,1,0,1), 1e-5);"
       ]
      },
      {
       "output_type": "stream",
       "stream": "stdout",
       "text": [
        "\n",
        "CHECK_CLOSE(-2.145102544455e-02, integrator.overlapIntegral(1,0,0,1,1,0), 1e-5);"
       ]
      },
      {
       "output_type": "stream",
       "stream": "stdout",
       "text": [
        "\n",
        "CHECK_CLOSE(-1.191723635809e-01, integrator.overlapIntegral(1,0,0,2,0,0), 1e-5);"
       ]
      },
      {
       "output_type": "stream",
       "stream": "stdout",
       "text": [
        "\n",
        "CHECK_CLOSE(6.220797378920e-01, integrator.overlapIntegral(1,0,1,0,0,0), 1e-5);"
       ]
      },
      {
       "output_type": "stream",
       "stream": "stdout",
       "text": [
        "\n",
        "CHECK_CLOSE(1.264466446538e+00, integrator.overlapIntegral(1,0,1,0,0,1), 1e-5);"
       ]
      },
      {
       "output_type": "stream",
       "stream": "stdout",
       "text": [
        "\n",
        "CHECK_CLOSE(3.140922068599e+00, integrator.overlapIntegral(1,0,1,0,0,2), 1e-5);"
       ]
      },
      {
       "output_type": "stream",
       "stream": "stdout",
       "text": [
        "\n",
        "CHECK_CLOSE(2.239487056411e-01, integrator.overlapIntegral(1,0,1,0,1,0), 1e-5);"
       ]
      },
      {
       "output_type": "stream",
       "stream": "stdout",
       "text": [
        "\n",
        "CHECK_CLOSE(4.552079207538e-01, integrator.overlapIntegral(1,0,1,0,1,1), 1e-5);"
       ]
      },
      {
       "output_type": "stream",
       "stream": "stdout",
       "text": [
        "\n",
        "CHECK_CLOSE(7.027012719229e-01, integrator.overlapIntegral(1,0,1,0,2,0), 1e-5);"
       ]
      },
      {
       "output_type": "stream",
       "stream": "stdout",
       "text": [
        "\n",
        "CHECK_CLOSE(2.073599126307e-01, integrator.overlapIntegral(1,0,1,1,0,0), 1e-5);"
       ]
      },
      {
       "output_type": "stream",
       "stream": "stdout",
       "text": [
        "\n",
        "CHECK_CLOSE(4.214888155128e-01, integrator.overlapIntegral(1,0,1,1,0,1), 1e-5);"
       ]
      },
      {
       "output_type": "stream",
       "stream": "stdout",
       "text": [
        "\n",
        "CHECK_CLOSE(7.464956854705e-02, integrator.overlapIntegral(1,0,1,1,1,0), 1e-5);"
       ]
      },
      {
       "output_type": "stream",
       "stream": "stdout",
       "text": [
        "\n",
        "CHECK_CLOSE(4.147198252614e-01, integrator.overlapIntegral(1,0,1,2,0,0), 1e-5);"
       ]
      },
      {
       "output_type": "stream",
       "stream": "stdout",
       "text": [
        "\n",
        "CHECK_CLOSE(9.652961450049e-02, integrator.overlapIntegral(1,1,0,0,0,0), 1e-5);"
       ]
      },
      {
       "output_type": "stream",
       "stream": "stdout",
       "text": [
        "\n",
        "CHECK_CLOSE(2.239487056411e-01, integrator.overlapIntegral(1,1,0,0,0,1), 1e-5);"
       ]
      },
      {
       "output_type": "stream",
       "stream": "stdout",
       "text": [
        "\n",
        "CHECK_CLOSE(6.160906115879e-01, integrator.overlapIntegral(1,1,0,0,0,2), 1e-5);"
       ]
      },
      {
       "output_type": "stream",
       "stream": "stdout",
       "text": [
        "\n",
        "CHECK_CLOSE(-1.440078841511e-01, integrator.overlapIntegral(1,1,0,0,1,0), 1e-5);"
       ]
      },
      {
       "output_type": "stream",
       "stream": "stdout",
       "text": [
        "\n",
        "CHECK_CLOSE(-3.340982912306e-01, integrator.overlapIntegral(1,1,0,0,1,1), 1e-5);"
       ]
      },
      {
       "output_type": "stream",
       "stream": "stdout",
       "text": [
        "\n",
        "CHECK_CLOSE(-1.966630012757e-02, integrator.overlapIntegral(1,1,0,0,2,0), 1e-5);"
       ]
      },
      {
       "output_type": "stream",
       "stream": "stdout",
       "text": [
        "\n",
        "CHECK_CLOSE(3.217653816683e-02, integrator.overlapIntegral(1,1,0,1,0,0), 1e-5);"
       ]
      },
      {
       "output_type": "stream",
       "stream": "stdout",
       "text": [
        "\n",
        "CHECK_CLOSE(7.464956854705e-02, integrator.overlapIntegral(1,1,0,1,0,1), 1e-5);"
       ]
      },
      {
       "output_type": "stream",
       "stream": "stdout",
       "text": [
        "\n",
        "CHECK_CLOSE(-4.800262805037e-02, integrator.overlapIntegral(1,1,0,1,1,0), 1e-5);"
       ]
      },
      {
       "output_type": "stream",
       "stream": "stdout",
       "text": [
        "\n",
        "CHECK_CLOSE(6.435307633366e-02, integrator.overlapIntegral(1,1,0,2,0,0), 1e-5);"
       ]
      },
      {
       "output_type": "stream",
       "stream": "stdout",
       "text": [
        "\n",
        "CHECK_CLOSE(3.873101816378e-01, integrator.overlapIntegral(2,0,0,0,0,0), 1e-5);"
       ]
      },
      {
       "output_type": "stream",
       "stream": "stdout",
       "text": [
        "\n",
        "CHECK_CLOSE(8.985596213996e-01, integrator.overlapIntegral(2,0,0,0,0,1), 1e-5);"
       ]
      },
      {
       "output_type": "stream",
       "stream": "stdout",
       "text": [
        "\n",
        "CHECK_CLOSE(2.471968503285e+00, integrator.overlapIntegral(2,0,0,0,0,2), 1e-5);"
       ]
      },
      {
       "output_type": "stream",
       "stream": "stdout",
       "text": [
        "\n",
        "CHECK_CLOSE(1.394316653896e-01, integrator.overlapIntegral(2,0,0,0,1,0), 1e-5);"
       ]
      },
      {
       "output_type": "stream",
       "stream": "stdout",
       "text": [
        "\n",
        "CHECK_CLOSE(3.234814637039e-01, integrator.overlapIntegral(2,0,0,0,1,1), 1e-5);"
       ]
      },
      {
       "output_type": "stream",
       "stream": "stdout",
       "text": [
        "\n",
        "CHECK_CLOSE(4.375055811780e-01, integrator.overlapIntegral(2,0,0,0,2,0), 1e-5);"
       ]
      },
      {
       "output_type": "stream",
       "stream": "stdout",
       "text": [
        "\n",
        "CHECK_CLOSE(2.979309089521e-02, integrator.overlapIntegral(2,0,0,1,0,0), 1e-5);"
       ]
      },
      {
       "output_type": "stream",
       "stream": "stdout",
       "text": [
        "\n",
        "CHECK_CLOSE(6.911997087690e-02, integrator.overlapIntegral(2,0,0,1,0,1), 1e-5);"
       ]
      },
      {
       "output_type": "stream",
       "stream": "stdout",
       "text": [
        "\n",
        "CHECK_CLOSE(1.072551272228e-02, integrator.overlapIntegral(2,0,0,1,1,0), 1e-5);"
       ]
      },
      {
       "output_type": "stream",
       "stream": "stdout",
       "text": [
        "\n",
        "CHECK_CLOSE(2.979309089521e-01, integrator.overlapIntegral(2,0,0,2,0,0), 1e-5);"
       ]
      },
      {
       "output_type": "stream",
       "stream": "stdout",
       "text": [
        "\n"
       ]
      }
     ],
     "prompt_number": 3
    },
    {
     "cell_type": "markdown",
     "metadata": {},
     "source": [
      "#Kinetic Integral"
     ]
    },
    {
     "cell_type": "code",
     "collapsed": false,
     "input": [
      "x, y, z = symbols('x, y, z')\n",
      "\n",
      "alpha = 0.2; beta = 0.3\n",
      "\n",
      "Ax = 1.2; Ay = 2.3; Az = 3.4\n",
      "Bx = -1.3; By = 1.4; Bz = -2.4\n",
      "\n",
      "rA = array([x - Ax, y - Ay, z - Az])\n",
      "rB = array([x - Bx, y - By, z - Bz])\n",
      "\n",
      "for i in range(0,combo.shape[0]):\n",
      "    iA, jA, kA = combo[i,:3]\n",
      "    iB, jB, kB = combo[i,3:6]\n",
      "    I = integrate(rA[0]**iA*rB[0]**jA*rA[1]**kA*rB[1]**iB*rA[2]**jB*rB[2]**kB\\\n",
      "                        *exp(-alpha*dot(rA,rA) - beta*dot(rB,rB)), (x, -oo, oo), (y, -oo, oo), (z, -oo, oo))\n",
      "    \n",
      "    \n",
      "    Ga = rA[0]**iA*rA[1]**jA*rA[2]**kA*exp(-alpha*dot(rA,rA))\n",
      "    Gb = rB[0]**iB*rB[1]**jB*rB[2]**kB*exp(-beta*dot(rB,rB))\n",
      "    Gbxx = diff(Gb, x, x)\n",
      "    Gbyy = diff(Gb, y, y)\n",
      "    Gbzz = diff(Gb, z, z)\n",
      "    T = -0.5*integrate(Ga*(Gbxx + Gbyy + Gbzz), (x,-oo,oo), (y,-oo,oo), (z,-oo,oo))\n",
      "    \n",
      "    print \"CHECK_CLOSE(\" + str(\"%.12e\" %T) + \", integrator.kineticIntegral(\" \\\n",
      "          + str(iA) + \",\" + str(jA) + \",\" + str(kA) + \",\" \\\n",
      "          + str(iB) + \",\" + str(jB) + \",\" + str(kB) + \")\" \\\n",
      "            + \", 1e-5);\"\n"
     ],
     "language": "python",
     "metadata": {},
     "outputs": [
      {
       "output_type": "stream",
       "stream": "stdout",
       "text": [
        "CHECK_CLOSE(-9.678702680582e-02, integrator.kineticIntegral(0,0,0,0,0,0), 1e-5);\n",
        "CHECK_CLOSE(-1.581907301477e-01, integrator.kineticIntegral(0,0,0,0,0,1), 1e-5);"
       ]
      },
      {
       "output_type": "stream",
       "stream": "stdout",
       "text": [
        "\n",
        "CHECK_CLOSE(-3.289130997844e-01, integrator.kineticIntegral(0,0,0,0,0,2), 1e-5);"
       ]
      },
      {
       "output_type": "stream",
       "stream": "stdout",
       "text": [
        "\n",
        "CHECK_CLOSE(-2.454683743671e-02, integrator.kineticIntegral(0,0,0,0,1,0), 1e-5);"
       ]
      }
     ],
     "prompt_number": "*"
    },
    {
     "cell_type": "code",
     "collapsed": false,
     "input": [],
     "language": "python",
     "metadata": {},
     "outputs": []
    }
   ],
   "metadata": {}
  }
 ]
}