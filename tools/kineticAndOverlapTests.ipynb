{
 "metadata": {
  "name": ""
 },
 "nbformat": 3,
 "nbformat_minor": 0,
 "worksheets": [
  {
   "cells": [
    {
     "cell_type": "code",
     "collapsed": false,
     "input": [
      "from numpy import *\n",
      "from sympy import *\n",
      "\n",
      "init_printing(use_unicode=True)"
     ],
     "language": "python",
     "metadata": {},
     "outputs": [],
     "prompt_number": 1
    },
    {
     "cell_type": "code",
     "collapsed": false,
     "input": [
      "lmax = 2\n",
      "combo=[]\n",
      "\n",
      "for iA in range(0,lmax+1):\n",
      "    for jA in range(0,lmax+1):\n",
      "        for kA in range(0,lmax+1):\n",
      "            for iB in range(0,lmax+1):\n",
      "                for jB in range(0,lmax+1):\n",
      "                    for kB in range(0,lmax+1):\n",
      "                        \n",
      "                        if(iA+jA+kA <= lmax and iB+jB+kB <=lmax):\n",
      "                            combo.append(array((iA, jA, kA, iB, jB, kB)))\n",
      "\n",
      "combo = array(combo)\n",
      "print combo.shape"
     ],
     "language": "python",
     "metadata": {},
     "outputs": [
      {
       "output_type": "stream",
       "stream": "stdout",
       "text": [
        "(100, 6)\n"
       ]
      }
     ],
     "prompt_number": 2
    },
    {
     "cell_type": "markdown",
     "metadata": {},
     "source": [
      "#Overlap"
     ]
    },
    {
     "cell_type": "code",
     "collapsed": false,
     "input": [
      "x, y, z = symbols('x, y, z')\n",
      "\n",
      "alpha = 0.2; beta = 0.3\n",
      "\n",
      "Ax = 1.2; Ay = 2.3; Az = 3.4\n",
      "Bx = -1.3; By = 1.4; Bz = -2.4\n",
      "\n",
      "rA = array([x - Ax, y - Ay, z - Az])\n",
      "rB = array([x - Bx, y - By, z - Bz])\n",
      "\n",
      "for i in range(0,combo.shape[0]):\n",
      "    iA, jA, kA = combo[i,:3]\n",
      "    iB, jB, kB = combo[i,3:6]\n",
      "    I = integrate(rA[0]**iA*rB[0]**iB*rA[1]**jA*rB[1]**jB*rA[2]**kA*rB[2]**kB\\\n",
      "                        *exp(-alpha*dot(rA,rA) - beta*dot(rB,rB)), (x, -oo, oo), (y, -oo, oo), (z, -oo, oo))\n",
      "    \n",
      "    print \"CHECK_CLOSE(\" + str(\"%.12e\" %I) + \", integrator.overlapIntegral(\" \\\n",
      "          + str(iA) + \",\" + str(jA) + \",\" + str(kA) + \",\" \\\n",
      "          + str(iB) + \",\" + str(jB) + \",\" + str(kB) + \")\" \\\n",
      "            + \", 1e-5);\""
     ],
     "language": "python",
     "metadata": {},
     "outputs": [
      {
       "output_type": "stream",
       "stream": "stdout",
       "text": [
        "CHECK_CLOSE(1.191723635809e-01, integrator.overlapIntegral(0,0,0,0,0,0), 1e-5);\n",
        "CHECK_CLOSE(2.764798835076e-01, integrator.overlapIntegral(0,0,0,0,0,1), 1e-5);"
       ]
      },
      {
       "output_type": "stream",
       "stream": "stdout",
       "text": [
        "\n",
        "CHECK_CLOSE(7.606056933184e-01, integrator.overlapIntegral(0,0,0,0,0,2), 1e-5);"
       ]
      },
      {
       "output_type": "stream",
       "stream": "stdout",
       "text": [
        "\n",
        "CHECK_CLOSE(4.290205088911e-02, integrator.overlapIntegral(0,0,0,0,1,0), 1e-5);"
       ]
      },
      {
       "output_type": "stream",
       "stream": "stdout",
       "text": [
        "\n",
        "CHECK_CLOSE(9.953275806273e-02, integrator.overlapIntegral(0,0,0,0,1,1), 1e-5);"
       ]
      },
      {
       "output_type": "stream",
       "stream": "stdout",
       "text": [
        "\n",
        "CHECK_CLOSE(1.346171019009e-01, integrator.overlapIntegral(0,0,0,0,2,0), 1e-5);"
       ]
      },
      {
       "output_type": "stream",
       "stream": "stdout",
       "text": [
        "\n",
        "CHECK_CLOSE(1.191723635809e-01, integrator.overlapIntegral(0,0,0,1,0,0), 1e-5);"
       ]
      },
      {
       "output_type": "stream",
       "stream": "stdout",
       "text": [
        "\n",
        "CHECK_CLOSE(2.764798835076e-01, integrator.overlapIntegral(0,0,0,1,0,1), 1e-5);"
       ]
      },
      {
       "output_type": "stream",
       "stream": "stdout",
       "text": [
        "\n",
        "CHECK_CLOSE(4.290205088911e-02, integrator.overlapIntegral(0,0,0,1,1,0), 1e-5);"
       ]
      },
      {
       "output_type": "stream",
       "stream": "stdout",
       "text": [
        "\n",
        "CHECK_CLOSE(2.383447271617e-01, integrator.overlapIntegral(0,0,0,2,0,0), 1e-5);"
       ]
      },
      {
       "output_type": "stream",
       "stream": "stdout",
       "text": [
        "\n",
        "CHECK_CLOSE(-4.147198252614e-01, integrator.overlapIntegral(0,0,1,0,0,0), 1e-5);"
       ]
      },
      {
       "output_type": "stream",
       "stream": "stdout",
       "text": [
        "\n",
        "CHECK_CLOSE(-8.429776310255e-01, integrator.overlapIntegral(0,0,1,0,0,1), 1e-5);"
       ]
      },
      {
       "output_type": "stream",
       "stream": "stdout",
       "text": [
        "\n",
        "CHECK_CLOSE(-2.093948045733e+00, integrator.overlapIntegral(0,0,1,0,0,2), 1e-5);"
       ]
      },
      {
       "output_type": "stream",
       "stream": "stdout",
       "text": [
        "\n",
        "CHECK_CLOSE(-1.492991370941e-01, integrator.overlapIntegral(0,0,1,0,1,0), 1e-5);"
       ]
      },
      {
       "output_type": "stream",
       "stream": "stdout",
       "text": [
        "\n",
        "CHECK_CLOSE(-3.034719471692e-01, integrator.overlapIntegral(0,0,1,0,1,1), 1e-5);"
       ]
      },
      {
       "output_type": "stream",
       "stream": "stdout",
       "text": [
        "\n",
        "CHECK_CLOSE(-4.684675146152e-01, integrator.overlapIntegral(0,0,1,0,2,0), 1e-5);"
       ]
      },
      {
       "output_type": "stream",
       "stream": "stdout",
       "text": [
        "\n",
        "CHECK_CLOSE(-4.147198252614e-01, integrator.overlapIntegral(0,0,1,1,0,0), 1e-5);"
       ]
      },
      {
       "output_type": "stream",
       "stream": "stdout",
       "text": [
        "\n",
        "CHECK_CLOSE(-8.429776310255e-01, integrator.overlapIntegral(0,0,1,1,0,1), 1e-5);"
       ]
      },
      {
       "output_type": "stream",
       "stream": "stdout",
       "text": [
        "\n",
        "CHECK_CLOSE(-1.492991370941e-01, integrator.overlapIntegral(0,0,1,1,1,0), 1e-5);"
       ]
      },
      {
       "output_type": "stream",
       "stream": "stdout",
       "text": [
        "\n",
        "CHECK_CLOSE(-8.294396505227e-01, integrator.overlapIntegral(0,0,1,2,0,0), 1e-5);"
       ]
      },
      {
       "output_type": "stream",
       "stream": "stdout",
       "text": [
        "\n",
        "CHECK_CLOSE(1.562397355490e+00, integrator.overlapIntegral(0,0,2,0,0,0), 1e-5);"
       ]
      },
      {
       "output_type": "stream",
       "stream": "stdout",
       "text": [
        "\n",
        "CHECK_CLOSE(2.795322214215e+00, integrator.overlapIntegral(0,0,2,0,0,1), 1e-5);"
       ]
      },
      {
       "output_type": "stream",
       "stream": "stdout",
       "text": [
        "\n",
        "CHECK_CLOSE(6.361589630418e+00, integrator.overlapIntegral(0,0,2,0,0,2), 1e-5);"
       ]
      },
      {
       "output_type": "stream",
       "stream": "stdout",
       "text": [
        "\n",
        "CHECK_CLOSE(5.624630479765e-01, integrator.overlapIntegral(0,0,2,0,1,0), 1e-5);"
       ]
      },
      {
       "output_type": "stream",
       "stream": "stdout",
       "text": [
        "\n",
        "CHECK_CLOSE(1.006315997117e+00, integrator.overlapIntegral(0,0,2,0,1,1), 1e-5);"
       ]
      },
      {
       "output_type": "stream",
       "stream": "stdout",
       "text": [
        "\n",
        "CHECK_CLOSE(1.764884052762e+00, integrator.overlapIntegral(0,0,2,0,2,0), 1e-5);"
       ]
      },
      {
       "output_type": "stream",
       "stream": "stdout",
       "text": [
        "\n",
        "CHECK_CLOSE(1.562397355490e+00, integrator.overlapIntegral(0,0,2,1,0,0), 1e-5);"
       ]
      },
      {
       "output_type": "stream",
       "stream": "stdout",
       "text": [
        "\n",
        "CHECK_CLOSE(2.795322214215e+00, integrator.overlapIntegral(0,0,2,1,0,1), 1e-5);"
       ]
      },
      {
       "output_type": "stream",
       "stream": "stdout",
       "text": [
        "\n",
        "CHECK_CLOSE(5.624630479765e-01, integrator.overlapIntegral(0,0,2,1,1,0), 1e-5);"
       ]
      },
      {
       "output_type": "stream",
       "stream": "stdout",
       "text": [
        "\n",
        "CHECK_CLOSE(3.124794710981e+00, integrator.overlapIntegral(0,0,2,2,0,0), 1e-5);"
       ]
      },
      {
       "output_type": "stream",
       "stream": "stdout",
       "text": [
        "\n",
        "CHECK_CLOSE(-6.435307633366e-02, integrator.overlapIntegral(0,1,0,0,0,0), 1e-5);"
       ]
      },
      {
       "output_type": "stream",
       "stream": "stdout",
       "text": [
        "\n",
        "CHECK_CLOSE(-1.492991370941e-01, integrator.overlapIntegral(0,1,0,0,0,1), 1e-5);"
       ]
      },
      {
       "output_type": "stream",
       "stream": "stdout",
       "text": [
        "\n",
        "CHECK_CLOSE(-4.107270743920e-01, integrator.overlapIntegral(0,1,0,0,0,2), 1e-5);"
       ]
      },
      {
       "output_type": "stream",
       "stream": "stdout",
       "text": [
        "\n",
        "CHECK_CLOSE(9.600525610073e-02, integrator.overlapIntegral(0,1,0,0,1,0), 1e-5);"
       ]
      },
      {
       "output_type": "stream",
       "stream": "stdout",
       "text": [
        "\n",
        "CHECK_CLOSE(2.227321941537e-01, integrator.overlapIntegral(0,1,0,0,1,1), 1e-5);"
       ]
      },
      {
       "output_type": "stream",
       "stream": "stdout",
       "text": [
        "\n",
        "CHECK_CLOSE(1.311086675171e-02, integrator.overlapIntegral(0,1,0,0,2,0), 1e-5);"
       ]
      },
      {
       "output_type": "stream",
       "stream": "stdout",
       "text": [
        "\n",
        "CHECK_CLOSE(-6.435307633366e-02, integrator.overlapIntegral(0,1,0,1,0,0), 1e-5);"
       ]
      },
      {
       "output_type": "stream",
       "stream": "stdout",
       "text": [
        "\n",
        "CHECK_CLOSE(-1.492991370941e-01, integrator.overlapIntegral(0,1,0,1,0,1), 1e-5);"
       ]
      },
      {
       "output_type": "stream",
       "stream": "stdout",
       "text": [
        "\n",
        "CHECK_CLOSE(9.600525610073e-02, integrator.overlapIntegral(0,1,0,1,1,0), 1e-5);"
       ]
      },
      {
       "output_type": "stream",
       "stream": "stdout",
       "text": [
        "\n",
        "CHECK_CLOSE(-1.287061526673e-01, integrator.overlapIntegral(0,1,0,2,0,0), 1e-5);"
       ]
      },
      {
       "output_type": "stream",
       "stream": "stdout",
       "text": [
        "\n",
        "CHECK_CLOSE(2.239487056411e-01, integrator.overlapIntegral(0,1,1,0,0,0), 1e-5);"
       ]
      },
      {
       "output_type": "stream",
       "stream": "stdout",
       "text": [
        "\n",
        "CHECK_CLOSE(4.552079207538e-01, integrator.overlapIntegral(0,1,1,0,0,1), 1e-5);"
       ]
      },
      {
       "output_type": "stream",
       "stream": "stdout",
       "text": [
        "\n",
        "CHECK_CLOSE(1.130731944696e+00, integrator.overlapIntegral(0,1,1,0,0,2), 1e-5);"
       ]
      },
      {
       "output_type": "stream",
       "stream": "stdout",
       "text": [
        "\n",
        "CHECK_CLOSE(-3.340982912306e-01, integrator.overlapIntegral(0,1,1,0,1,0), 1e-5);"
       ]
      },
      {
       "output_type": "stream",
       "stream": "stdout",
       "text": [
        "\n",
        "CHECK_CLOSE(-6.791027795542e-01, integrator.overlapIntegral(0,1,1,0,1,1), 1e-5);"
       ]
      },
      {
       "output_type": "stream",
       "stream": "stdout",
       "text": [
        "\n",
        "CHECK_CLOSE(-4.562581629595e-02, integrator.overlapIntegral(0,1,1,0,2,0), 1e-5);"
       ]
      },
      {
       "output_type": "stream",
       "stream": "stdout",
       "text": [
        "\n",
        "CHECK_CLOSE(2.239487056411e-01, integrator.overlapIntegral(0,1,1,1,0,0), 1e-5);"
       ]
      },
      {
       "output_type": "stream",
       "stream": "stdout",
       "text": [
        "\n",
        "CHECK_CLOSE(4.552079207538e-01, integrator.overlapIntegral(0,1,1,1,0,1), 1e-5);"
       ]
      },
      {
       "output_type": "stream",
       "stream": "stdout",
       "text": [
        "\n",
        "CHECK_CLOSE(-3.340982912306e-01, integrator.overlapIntegral(0,1,1,1,1,0), 1e-5);"
       ]
      },
      {
       "output_type": "stream",
       "stream": "stdout",
       "text": [
        "\n",
        "CHECK_CLOSE(4.478974112823e-01, integrator.overlapIntegral(0,1,1,2,0,0), 1e-5);"
       ]
      },
      {
       "output_type": "stream",
       "stream": "stdout",
       "text": [
        "\n",
        "CHECK_CLOSE(1.539230248010e-01, integrator.overlapIntegral(0,2,0,0,0,0), 1e-5);"
       ]
      },
      {
       "output_type": "stream",
       "stream": "stdout",
       "text": [
        "\n",
        "CHECK_CLOSE(3.571014175384e-01, integrator.overlapIntegral(0,2,0,0,0,1), 1e-5);"
       ]
      },
      {
       "output_type": "stream",
       "stream": "stdout",
       "text": [
        "\n",
        "CHECK_CLOSE(9.823983134901e-01, integrator.overlapIntegral(0,2,0,0,0,2), 1e-5);"
       ]
      },
      {
       "output_type": "stream",
       "stream": "stdout",
       "text": [
        "\n",
        "CHECK_CLOSE(-7.329386373895e-02, integrator.overlapIntegral(0,2,0,0,1,0), 1e-5);"
       ]
      },
      {
       "output_type": "stream",
       "stream": "stdout",
       "text": [
        "\n",
        "CHECK_CLOSE(-1.700417638744e-01, integrator.overlapIntegral(0,2,0,0,1,1), 1e-5);"
       ]
      },
      {
       "output_type": "stream",
       "stream": "stdout",
       "text": [
        "\n",
        "CHECK_CLOSE(3.195477460565e-01, integrator.overlapIntegral(0,2,0,0,2,0), 1e-5);"
       ]
      },
      {
       "output_type": "stream",
       "stream": "stdout",
       "text": [
        "\n",
        "CHECK_CLOSE(1.539230248010e-01, integrator.overlapIntegral(0,2,0,1,0,0), 1e-5);"
       ]
      },
      {
       "output_type": "stream",
       "stream": "stdout",
       "text": [
        "\n",
        "CHECK_CLOSE(3.571014175384e-01, integrator.overlapIntegral(0,2,0,1,0,1), 1e-5);"
       ]
      },
      {
       "output_type": "stream",
       "stream": "stdout",
       "text": [
        "\n",
        "CHECK_CLOSE(-7.329386373895e-02, integrator.overlapIntegral(0,2,0,1,1,0), 1e-5);"
       ]
      },
      {
       "output_type": "stream",
       "stream": "stdout",
       "text": [
        "\n",
        "CHECK_CLOSE(3.078460496021e-01, integrator.overlapIntegral(0,2,0,2,0,0), 1e-5);"
       ]
      },
      {
       "output_type": "stream",
       "stream": "stdout",
       "text": [
        "\n",
        "CHECK_CLOSE(-1.787585453713e-01, integrator.overlapIntegral(1,0,0,0,0,0), 1e-5);"
       ]
      },
      {
       "output_type": "stream",
       "stream": "stdout",
       "text": [
        "\n",
        "CHECK_CLOSE(-4.147198252614e-01, integrator.overlapIntegral(1,0,0,0,0,1), 1e-5);"
       ]
      },
      {
       "output_type": "stream",
       "stream": "stdout",
       "text": [
        "\n",
        "CHECK_CLOSE(-1.140908539978e+00, integrator.overlapIntegral(1,0,0,0,0,2), 1e-5);"
       ]
      },
      {
       "output_type": "stream",
       "stream": "stdout",
       "text": [
        "\n",
        "CHECK_CLOSE(-6.435307633366e-02, integrator.overlapIntegral(1,0,0,0,1,0), 1e-5);"
       ]
      },
      {
       "output_type": "stream",
       "stream": "stdout",
       "text": [
        "\n",
        "CHECK_CLOSE(-1.492991370941e-01, integrator.overlapIntegral(1,0,0,0,1,1), 1e-5);"
       ]
      },
      {
       "output_type": "stream",
       "stream": "stdout",
       "text": [
        "\n",
        "CHECK_CLOSE(-2.019256528514e-01, integrator.overlapIntegral(1,0,0,0,2,0), 1e-5);"
       ]
      },
      {
       "output_type": "stream",
       "stream": "stdout",
       "text": [
        "\n",
        "CHECK_CLOSE(-5.958618179043e-02, integrator.overlapIntegral(1,0,0,1,0,0), 1e-5);"
       ]
      },
      {
       "output_type": "stream",
       "stream": "stdout",
       "text": [
        "\n",
        "CHECK_CLOSE(-1.382399417538e-01, integrator.overlapIntegral(1,0,0,1,0,1), 1e-5);"
       ]
      },
      {
       "output_type": "stream",
       "stream": "stdout",
       "text": [
        "\n",
        "CHECK_CLOSE(-2.145102544455e-02, integrator.overlapIntegral(1,0,0,1,1,0), 1e-5);"
       ]
      },
      {
       "output_type": "stream",
       "stream": "stdout",
       "text": [
        "\n",
        "CHECK_CLOSE(-1.191723635809e-01, integrator.overlapIntegral(1,0,0,2,0,0), 1e-5);"
       ]
      },
      {
       "output_type": "stream",
       "stream": "stdout",
       "text": [
        "\n",
        "CHECK_CLOSE(6.220797378920e-01, integrator.overlapIntegral(1,0,1,0,0,0), 1e-5);"
       ]
      },
      {
       "output_type": "stream",
       "stream": "stdout",
       "text": [
        "\n",
        "CHECK_CLOSE(1.264466446538e+00, integrator.overlapIntegral(1,0,1,0,0,1), 1e-5);"
       ]
      },
      {
       "output_type": "stream",
       "stream": "stdout",
       "text": [
        "\n",
        "CHECK_CLOSE(3.140922068599e+00, integrator.overlapIntegral(1,0,1,0,0,2), 1e-5);"
       ]
      },
      {
       "output_type": "stream",
       "stream": "stdout",
       "text": [
        "\n",
        "CHECK_CLOSE(2.239487056411e-01, integrator.overlapIntegral(1,0,1,0,1,0), 1e-5);"
       ]
      },
      {
       "output_type": "stream",
       "stream": "stdout",
       "text": [
        "\n",
        "CHECK_CLOSE(4.552079207538e-01, integrator.overlapIntegral(1,0,1,0,1,1), 1e-5);"
       ]
      },
      {
       "output_type": "stream",
       "stream": "stdout",
       "text": [
        "\n",
        "CHECK_CLOSE(7.027012719229e-01, integrator.overlapIntegral(1,0,1,0,2,0), 1e-5);"
       ]
      },
      {
       "output_type": "stream",
       "stream": "stdout",
       "text": [
        "\n",
        "CHECK_CLOSE(2.073599126307e-01, integrator.overlapIntegral(1,0,1,1,0,0), 1e-5);"
       ]
      },
      {
       "output_type": "stream",
       "stream": "stdout",
       "text": [
        "\n",
        "CHECK_CLOSE(4.214888155128e-01, integrator.overlapIntegral(1,0,1,1,0,1), 1e-5);"
       ]
      },
      {
       "output_type": "stream",
       "stream": "stdout",
       "text": [
        "\n",
        "CHECK_CLOSE(7.464956854705e-02, integrator.overlapIntegral(1,0,1,1,1,0), 1e-5);"
       ]
      },
      {
       "output_type": "stream",
       "stream": "stdout",
       "text": [
        "\n",
        "CHECK_CLOSE(4.147198252614e-01, integrator.overlapIntegral(1,0,1,2,0,0), 1e-5);"
       ]
      },
      {
       "output_type": "stream",
       "stream": "stdout",
       "text": [
        "\n",
        "CHECK_CLOSE(9.652961450049e-02, integrator.overlapIntegral(1,1,0,0,0,0), 1e-5);"
       ]
      },
      {
       "output_type": "stream",
       "stream": "stdout",
       "text": [
        "\n",
        "CHECK_CLOSE(2.239487056411e-01, integrator.overlapIntegral(1,1,0,0,0,1), 1e-5);"
       ]
      },
      {
       "output_type": "stream",
       "stream": "stdout",
       "text": [
        "\n",
        "CHECK_CLOSE(6.160906115879e-01, integrator.overlapIntegral(1,1,0,0,0,2), 1e-5);"
       ]
      },
      {
       "output_type": "stream",
       "stream": "stdout",
       "text": [
        "\n",
        "CHECK_CLOSE(-1.440078841511e-01, integrator.overlapIntegral(1,1,0,0,1,0), 1e-5);"
       ]
      },
      {
       "output_type": "stream",
       "stream": "stdout",
       "text": [
        "\n",
        "CHECK_CLOSE(-3.340982912306e-01, integrator.overlapIntegral(1,1,0,0,1,1), 1e-5);"
       ]
      },
      {
       "output_type": "stream",
       "stream": "stdout",
       "text": [
        "\n",
        "CHECK_CLOSE(-1.966630012757e-02, integrator.overlapIntegral(1,1,0,0,2,0), 1e-5);"
       ]
      },
      {
       "output_type": "stream",
       "stream": "stdout",
       "text": [
        "\n",
        "CHECK_CLOSE(3.217653816683e-02, integrator.overlapIntegral(1,1,0,1,0,0), 1e-5);"
       ]
      },
      {
       "output_type": "stream",
       "stream": "stdout",
       "text": [
        "\n",
        "CHECK_CLOSE(7.464956854705e-02, integrator.overlapIntegral(1,1,0,1,0,1), 1e-5);"
       ]
      },
      {
       "output_type": "stream",
       "stream": "stdout",
       "text": [
        "\n",
        "CHECK_CLOSE(-4.800262805037e-02, integrator.overlapIntegral(1,1,0,1,1,0), 1e-5);"
       ]
      },
      {
       "output_type": "stream",
       "stream": "stdout",
       "text": [
        "\n",
        "CHECK_CLOSE(6.435307633366e-02, integrator.overlapIntegral(1,1,0,2,0,0), 1e-5);"
       ]
      },
      {
       "output_type": "stream",
       "stream": "stdout",
       "text": [
        "\n",
        "CHECK_CLOSE(3.873101816378e-01, integrator.overlapIntegral(2,0,0,0,0,0), 1e-5);"
       ]
      },
      {
       "output_type": "stream",
       "stream": "stdout",
       "text": [
        "\n",
        "CHECK_CLOSE(8.985596213996e-01, integrator.overlapIntegral(2,0,0,0,0,1), 1e-5);"
       ]
      },
      {
       "output_type": "stream",
       "stream": "stdout",
       "text": [
        "\n",
        "CHECK_CLOSE(2.471968503285e+00, integrator.overlapIntegral(2,0,0,0,0,2), 1e-5);"
       ]
      },
      {
       "output_type": "stream",
       "stream": "stdout",
       "text": [
        "\n",
        "CHECK_CLOSE(1.394316653896e-01, integrator.overlapIntegral(2,0,0,0,1,0), 1e-5);"
       ]
      },
      {
       "output_type": "stream",
       "stream": "stdout",
       "text": [
        "\n",
        "CHECK_CLOSE(3.234814637039e-01, integrator.overlapIntegral(2,0,0,0,1,1), 1e-5);"
       ]
      },
      {
       "output_type": "stream",
       "stream": "stdout",
       "text": [
        "\n",
        "CHECK_CLOSE(4.375055811780e-01, integrator.overlapIntegral(2,0,0,0,2,0), 1e-5);"
       ]
      },
      {
       "output_type": "stream",
       "stream": "stdout",
       "text": [
        "\n",
        "CHECK_CLOSE(2.979309089521e-02, integrator.overlapIntegral(2,0,0,1,0,0), 1e-5);"
       ]
      },
      {
       "output_type": "stream",
       "stream": "stdout",
       "text": [
        "\n",
        "CHECK_CLOSE(6.911997087690e-02, integrator.overlapIntegral(2,0,0,1,0,1), 1e-5);"
       ]
      },
      {
       "output_type": "stream",
       "stream": "stdout",
       "text": [
        "\n",
        "CHECK_CLOSE(1.072551272228e-02, integrator.overlapIntegral(2,0,0,1,1,0), 1e-5);"
       ]
      },
      {
       "output_type": "stream",
       "stream": "stdout",
       "text": [
        "\n",
        "CHECK_CLOSE(2.979309089521e-01, integrator.overlapIntegral(2,0,0,2,0,0), 1e-5);"
       ]
      },
      {
       "output_type": "stream",
       "stream": "stdout",
       "text": [
        "\n"
       ]
      }
     ],
     "prompt_number": 3
    },
    {
     "cell_type": "markdown",
     "metadata": {},
     "source": [
      "#Kinetic Integral"
     ]
    },
    {
     "cell_type": "code",
     "collapsed": false,
     "input": [
      "x, y, z = symbols('x, y, z')\n",
      "\n",
      "alpha = 0.2; beta = 0.3\n",
      "\n",
      "Ax = 1.2; Ay = 2.3; Az = 3.4\n",
      "Bx = -1.3; By = 1.4; Bz = -2.4\n",
      "\n",
      "rA = array([x - Ax, y - Ay, z - Az])\n",
      "rB = array([x - Bx, y - By, z - Bz])\n",
      "\n",
      "for i in range(0,combo.shape[0]):\n",
      "    iA, jA, kA = combo[i,:3]\n",
      "    iB, jB, kB = combo[i,3:6]\n",
      "    I = integrate(rA[0]**iA*rB[0]**jA*rA[1]**kA*rB[1]**iB*rA[2]**jB*rB[2]**kB\\\n",
      "                        *exp(-alpha*dot(rA,rA) - beta*dot(rB,rB)), (x, -oo, oo), (y, -oo, oo), (z, -oo, oo))\n",
      "    \n",
      "    \n",
      "    Ga = rA[0]**iA*rA[1]**jA*rA[2]**kA*exp(-alpha*dot(rA,rA))\n",
      "    Gb = rB[0]**iB*rB[1]**jB*rB[2]**kB*exp(-beta*dot(rB,rB))\n",
      "    Gbxx = diff(Gb, x, x)\n",
      "    Gbyy = diff(Gb, y, y)\n",
      "    Gbzz = diff(Gb, z, z)\n",
      "    T = -0.5*integrate(Ga*(Gbxx + Gbyy + Gbzz), (x,-oo,oo), (y,-oo,oo), (z,-oo,oo))\n",
      "    \n",
      "    print \"CHECK_CLOSE(\" + str(\"%.12e\" %T) + \", integrator.kineticIntegral(\" \\\n",
      "          + str(iA) + \",\" + str(jA) + \",\" + str(kA) + \",\" \\\n",
      "          + str(iB) + \",\" + str(jB) + \",\" + str(kB) + \")\" \\\n",
      "            + \", 1e-5);\"\n"
     ],
     "language": "python",
     "metadata": {},
     "outputs": [
      {
       "output_type": "stream",
       "stream": "stdout",
       "text": [
        "CHECK_CLOSE(-9.678702680582e-02, integrator.kineticIntegral(0,0,0,0,0,0), 1e-5);\n",
        "CHECK_CLOSE(-1.581907301477e-01, integrator.kineticIntegral(0,0,0,0,0,1), 1e-5);"
       ]
      },
      {
       "output_type": "stream",
       "stream": "stdout",
       "text": [
        "\n",
        "CHECK_CLOSE(-3.289130997844e-01, integrator.kineticIntegral(0,0,0,0,0,2), 1e-5);"
       ]
      },
      {
       "output_type": "stream",
       "stream": "stdout",
       "text": [
        "\n",
        "CHECK_CLOSE(-2.454683743671e-02, integrator.kineticIntegral(0,0,0,0,1,0), 1e-5);"
       ]
      },
      {
       "output_type": "stream",
       "stream": "stdout",
       "text": [
        "\n",
        "CHECK_CLOSE(-3.306080091812e-02, integrator.kineticIntegral(0,0,0,0,1,1), 1e-5);"
       ]
      },
      {
       "output_type": "stream",
       "stream": "stdout",
       "text": [
        "\n",
        "CHECK_CLOSE(-1.209847292592e-01, integrator.kineticIntegral(0,0,0,0,2,0), 1e-5);"
       ]
      },
      {
       "output_type": "stream",
       "stream": "stdout",
       "text": [
        "\n",
        "CHECK_CLOSE(-6.818565954642e-02, integrator.kineticIntegral(0,0,0,1,0,0), 1e-5);"
       ]
      },
      {
       "output_type": "stream",
       "stream": "stdout",
       "text": [
        "\n",
        "CHECK_CLOSE(-9.183555810588e-02, integrator.kineticIntegral(0,0,0,1,0,1), 1e-5);"
       ]
      },
      {
       "output_type": "stream",
       "stream": "stdout",
       "text": [
        "\n",
        "CHECK_CLOSE(-1.425034522333e-02, integrator.kineticIntegral(0,0,0,1,1,0), 1e-5);"
       ]
      },
      {
       "output_type": "stream",
       "stream": "stdout",
       "text": [
        "\n",
        "CHECK_CLOSE(-1.554388972658e-01, integrator.kineticIntegral(0,0,0,2,0,0), 1e-5);"
       ]
      },
      {
       "output_type": "stream",
       "stream": "stdout",
       "text": [
        "\n",
        "CHECK_CLOSE(2.372860952215e-01, integrator.kineticIntegral(0,0,1,0,0,0), 1e-5);"
       ]
      },
      {
       "output_type": "stream",
       "stream": "stdout",
       "text": [
        "\n",
        "CHECK_CLOSE(2.514020826620e-01, integrator.kineticIntegral(0,0,1,0,0,1), 1e-5);"
       ]
      },
      {
       "output_type": "stream",
       "stream": "stdout",
       "text": [
        "\n",
        "CHECK_CLOSE(3.256885959785e-01, integrator.kineticIntegral(0,0,1,0,0,2), 1e-5);"
       ]
      },
      {
       "output_type": "stream",
       "stream": "stdout",
       "text": [
        "\n",
        "CHECK_CLOSE(4.959120137717e-02, integrator.kineticIntegral(0,0,1,0,1,0), 1e-5);"
       ]
      },
      {
       "output_type": "stream",
       "stream": "stdout",
       "text": [
        "\n",
        "CHECK_CLOSE(1.767148243772e-02, integrator.kineticIntegral(0,0,1,0,1,1), 1e-5);"
       ]
      },
      {
       "output_type": "stream",
       "stream": "stdout",
       "text": [
        "\n",
        "CHECK_CLOSE(3.085946543142e-01, integrator.kineticIntegral(0,0,1,0,2,0), 1e-5);"
       ]
      },
      {
       "output_type": "stream",
       "stream": "stdout",
       "text": [
        "\n",
        "CHECK_CLOSE(1.377533371588e-01, integrator.kineticIntegral(0,0,1,1,0,0), 1e-5);"
       ]
      },
      {
       "output_type": "stream",
       "stream": "stdout",
       "text": [
        "\n",
        "CHECK_CLOSE(4.908745121589e-02, integrator.kineticIntegral(0,0,1,1,0,1), 1e-5);"
       ]
      },
      {
       "output_type": "stream",
       "stream": "stdout",
       "text": [
        "\n",
        "CHECK_CLOSE(1.375940847459e-02, integrator.kineticIntegral(0,0,1,1,1,0), 1e-5);"
       ]
      },
      {
       "output_type": "stream",
       "stream": "stdout",
       "text": [
        "\n",
        "CHECK_CLOSE(3.418618463595e-01, integrator.kineticIntegral(0,0,1,2,0,0), 1e-5);"
       ]
      },
      {
       "output_type": "stream",
       "stream": "stdout",
       "text": [
        "\n",
        "CHECK_CLOSE(-6.190706910076e-01, integrator.kineticIntegral(0,0,2,0,0,0), 1e-5);"
       ]
      },
      {
       "output_type": "stream",
       "stream": "stdout",
       "text": [
        "\n",
        "CHECK_CLOSE(-2.907944812827e-01, integrator.kineticIntegral(0,0,2,0,0,1), 1e-5);"
       ]
      },
      {
       "output_type": "stream",
       "stream": "stdout",
       "text": [
        "\n",
        "CHECK_CLOSE(1.109128468812e-01, integrator.kineticIntegral(0,0,2,0,0,2), 1e-5);"
       ]
      },
      {
       "output_type": "stream",
       "stream": "stdout",
       "text": [
        "\n",
        "CHECK_CLOSE(-8.787431724837e-02, integrator.kineticIntegral(0,0,2,0,1,0), 1e-5);"
       ]
      },
      {
       "output_type": "stream",
       "stream": "stdout",
       "text": [
        "\n",
        "CHECK_CLOSE(1.368298260464e-01, integrator.kineticIntegral(0,0,2,0,1,1), 1e-5);"
       ]
      },
      {
       "output_type": "stream",
       "stream": "stdout",
       "text": [
        "\n",
        "CHECK_CLOSE(-8.520922147503e-01, integrator.kineticIntegral(0,0,2,0,2,0), 1e-5);"
       ]
      },
      {
       "output_type": "stream",
       "stream": "stdout",
       "text": [
        "\n",
        "CHECK_CLOSE(-2.440953256899e-01, integrator.kineticIntegral(0,0,2,1,0,0), 1e-5);"
       ]
      },
      {
       "output_type": "stream",
       "stream": "stdout",
       "text": [
        "\n",
        "CHECK_CLOSE(3.800828501289e-01, integrator.kineticIntegral(0,0,2,1,0,1), 1e-5);"
       ]
      },
      {
       "output_type": "stream",
       "stream": "stdout",
       "text": [
        "\n",
        "CHECK_CLOSE(4.711681426600e-02, integrator.kineticIntegral(0,0,2,1,1,0), 1e-5);"
       ]
      },
      {
       "output_type": "stream",
       "stream": "stdout",
       "text": [
        "\n",
        "CHECK_CLOSE(-7.381742282583e-01, integrator.kineticIntegral(0,0,2,2,0,0), 1e-5);"
       ]
      },
      {
       "output_type": "stream",
       "stream": "stdout",
       "text": [
        "\n",
        "CHECK_CLOSE(3.682025615507e-02, integrator.kineticIntegral(0,1,0,0,0,0), 1e-5);"
       ]
      },
      {
       "output_type": "stream",
       "stream": "stdout",
       "text": [
        "\n",
        "CHECK_CLOSE(4.959120137717e-02, integrator.kineticIntegral(0,1,0,0,0,1), 1e-5);"
       ]
      },
      {
       "output_type": "stream",
       "stream": "stdout",
       "text": [
        "\n",
        "CHECK_CLOSE(7.903857602951e-02, integrator.kineticIntegral(0,1,0,0,0,2), 1e-5);"
       ]
      },
      {
       "output_type": "stream",
       "stream": "stdout",
       "text": [
        "\n",
        "CHECK_CLOSE(-6.049047312582e-02, integrator.kineticIntegral(0,1,0,0,1,0), 1e-5);"
       ]
      },
      {
       "output_type": "stream",
       "stream": "stdout",
       "text": [
        "\n",
        "CHECK_CLOSE(-8.688217105502e-02, integrator.kineticIntegral(0,1,0,0,1,1), 1e-5);"
       ]
      },
      {
       "output_type": "stream",
       "stream": "stdout",
       "text": [
        "\n",
        "CHECK_CLOSE(1.938468694693e-02, integrator.kineticIntegral(0,1,0,0,2,0), 1e-5);"
       ]
      },
      {
       "output_type": "stream",
       "stream": "stdout",
       "text": [
        "\n",
        "CHECK_CLOSE(2.137551783499e-02, integrator.kineticIntegral(0,1,0,1,0,0), 1e-5);"
       ]
      },
      {
       "output_type": "stream",
       "stream": "stdout",
       "text": [
        "\n",
        "CHECK_CLOSE(1.375940847459e-02, integrator.kineticIntegral(0,1,0,1,0,1), 1e-5);"
       ]
      },
      {
       "output_type": "stream",
       "stream": "stdout",
       "text": [
        "\n",
        "CHECK_CLOSE(-3.744921166165e-02, integrator.kineticIntegral(0,1,0,1,1,0), 1e-5);"
       ]
      },
      {
       "output_type": "stream",
       "stream": "stdout",
       "text": [
        "\n",
        "CHECK_CLOSE(5.304752788336e-02, integrator.kineticIntegral(0,1,0,2,0,0), 1e-5);"
       ]
      },
      {
       "output_type": "stream",
       "stream": "stdout",
       "text": [
        "\n",
        "CHECK_CLOSE(-7.438680206576e-02, integrator.kineticIntegral(0,1,1,0,0,0), 1e-5);"
       ]
      },
      {
       "output_type": "stream",
       "stream": "stdout",
       "text": [
        "\n",
        "CHECK_CLOSE(-2.650722365658e-02, integrator.kineticIntegral(0,1,1,0,0,1), 1e-5);"
       ]
      },
      {
       "output_type": "stream",
       "stream": "stdout",
       "text": [
        "\n",
        "CHECK_CLOSE(9.550382489858e-02, integrator.kineticIntegral(0,1,1,0,0,2), 1e-5);"
       ]
      },
      {
       "output_type": "stream",
       "stream": "stdout",
       "text": [
        "\n",
        "CHECK_CLOSE(1.303232565825e-01, integrator.kineticIntegral(0,1,1,0,1,0), 1e-5);"
       ]
      },
      {
       "output_type": "stream",
       "stream": "stdout",
       "text": [
        "\n",
        "CHECK_CLOSE(7.887481505265e-02, integrator.kineticIntegral(0,1,1,0,1,1), 1e-5);"
       ]
      },
      {
       "output_type": "stream",
       "stream": "stdout",
       "text": [
        "\n",
        "CHECK_CLOSE(-7.840890648636e-02, integrator.kineticIntegral(0,1,1,0,2,0), 1e-5);"
       ]
      },
      {
       "output_type": "stream",
       "stream": "stdout",
       "text": [
        "\n",
        "CHECK_CLOSE(-2.063911271189e-02, integrator.kineticIntegral(0,1,1,1,0,0), 1e-5);"
       ]
      },
      {
       "output_type": "stream",
       "stream": "stdout",
       "text": [
        "\n",
        "CHECK_CLOSE(8.274267732432e-02, integrator.kineticIntegral(0,1,1,1,0,1), 1e-5);"
       ]
      },
      {
       "output_type": "stream",
       "stream": "stdout",
       "text": [
        "\n",
        "CHECK_CLOSE(5.013966668721e-02, integrator.kineticIntegral(0,1,1,1,1,0), 1e-5);"
       ]
      },
      {
       "output_type": "stream",
       "stream": "stdout",
       "text": [
        "\n",
        "CHECK_CLOSE(-7.711001832636e-02, integrator.kineticIntegral(0,1,1,2,0,0), 1e-5);"
       ]
      },
      {
       "output_type": "stream",
       "stream": "stdout",
       "text": [
        "\n",
        "CHECK_CLOSE(-1.512318573258e-01, integrator.kineticIntegral(0,2,0,0,0,0), 1e-5);"
       ]
      },
      {
       "output_type": "stream",
       "stream": "stdout",
       "text": [
        "\n",
        "CHECK_CLOSE(-2.651535687867e-01, integrator.kineticIntegral(0,2,0,0,0,1), 1e-5);"
       ]
      },
      {
       "output_type": "stream",
       "stream": "stdout",
       "text": [
        "\n",
        "CHECK_CLOSE(-5.921817515938e-01, integrator.kineticIntegral(0,2,0,0,0,2), 1e-5);"
       ]
      },
      {
       "output_type": "stream",
       "stream": "stdout",
       "text": [
        "\n",
        "CHECK_CLOSE(1.606516375488e-03, integrator.kineticIntegral(0,2,0,0,1,0), 1e-5);"
       ]
      },
      {
       "output_type": "stream",
       "stream": "stdout",
       "text": [
        "\n",
        "CHECK_CLOSE(-3.708290533872e-02, integrator.kineticIntegral(0,2,0,0,1,1), 1e-5);"
       ]
      },
      {
       "output_type": "stream",
       "stream": "stdout",
       "text": [
        "\n",
        "CHECK_CLOSE(-2.565122085492e-01, integrator.kineticIntegral(0,2,0,0,2,0), 1e-5);"
       ]
      },
      {
       "output_type": "stream",
       "stream": "stdout",
       "text": [
        "\n",
        "CHECK_CLOSE(-1.142903313736e-01, integrator.kineticIntegral(0,2,0,1,0,0), 1e-5);"
       ]
      },
      {
       "output_type": "stream",
       "stream": "stdout",
       "text": [
        "\n",
        "CHECK_CLOSE(-1.794492285775e-01, integrator.kineticIntegral(0,2,0,1,0,1), 1e-5);"
       ]
      },
      {
       "output_type": "stream",
       "stream": "stdout",
       "text": [
        "\n",
        "CHECK_CLOSE(-1.598401092187e-02, integrator.kineticIntegral(0,2,0,1,1,0), 1e-5);"
       ]
      },
      {
       "output_type": "stream",
       "stream": "stdout",
       "text": [
        "\n",
        "CHECK_CLOSE(-2.532083467153e-01, integrator.kineticIntegral(0,2,0,2,0,0), 1e-5);"
       ]
      },
      {
       "output_type": "stream",
       "stream": "stdout",
       "text": [
        "\n",
        "CHECK_CLOSE(1.022784893196e-01, integrator.kineticIntegral(1,0,0,0,0,0), 1e-5);"
       ]
      },
      {
       "output_type": "stream",
       "stream": "stdout",
       "text": [
        "\n",
        "CHECK_CLOSE(1.377533371588e-01, integrator.kineticIntegral(1,0,0,0,0,1), 1e-5);"
       ]
      },
      {
       "output_type": "stream",
       "stream": "stdout",
       "text": [
        "\n",
        "CHECK_CLOSE(2.195516000820e-01, integrator.kineticIntegral(1,0,0,0,0,2), 1e-5);"
       ]
      },
      {
       "output_type": "stream",
       "stream": "stdout",
       "text": [
        "\n",
        "CHECK_CLOSE(2.137551783499e-02, integrator.kineticIntegral(1,0,0,0,1,0), 1e-5);"
       ]
      },
      {
       "output_type": "stream",
       "stream": "stdout",
       "text": [
        "\n",
        "CHECK_CLOSE(1.375940847459e-02, integrator.kineticIntegral(1,0,0,0,1,1), 1e-5);"
       ]
      },
      {
       "output_type": "stream",
       "stream": "stdout",
       "text": [
        "\n",
        "CHECK_CLOSE(1.330149372044e-01, integrator.kineticIntegral(1,0,0,0,2,0), 1e-5);"
       ]
      },
      {
       "output_type": "stream",
       "stream": "stdout",
       "text": [
        "\n",
        "CHECK_CLOSE(-8.809221115897e-03, integrator.kineticIntegral(1,0,0,1,0,0), 1e-5);"
       ]
      },
      {
       "output_type": "stream",
       "stream": "stdout",
       "text": [
        "\n",
        "CHECK_CLOSE(-5.361497900979e-02, integrator.kineticIntegral(1,0,0,1,0,1), 1e-5);"
       ]
      },
      {
       "output_type": "stream",
       "stream": "stdout",
       "text": [
        "\n",
        "CHECK_CLOSE(-8.319565708416e-03, integrator.kineticIntegral(1,0,0,1,1,0), 1e-5);"
       ]
      },
      {
       "output_type": "stream",
       "stream": "stdout",
       "text": [
        "\n",
        "CHECK_CLOSE(6.818565954642e-02, integrator.kineticIntegral(1,0,0,2,0,0), 1e-5);"
       ]
      },
      {
       "output_type": "stream",
       "stream": "stdout",
       "text": [
        "\n",
        "CHECK_CLOSE(-2.066300057382e-01, integrator.kineticIntegral(1,0,1,0,0,0), 1e-5);"
       ]
      },
      {
       "output_type": "stream",
       "stream": "stdout",
       "text": [
        "\n",
        "CHECK_CLOSE(-7.363117682384e-02, integrator.kineticIntegral(1,0,1,0,0,1), 1e-5);"
       ]
      },
      {
       "output_type": "stream",
       "stream": "stdout",
       "text": [
        "\n",
        "CHECK_CLOSE(2.652884024961e-01, integrator.kineticIntegral(1,0,1,0,0,2), 1e-5);"
       ]
      },
      {
       "output_type": "stream",
       "stream": "stdout",
       "text": [
        "\n",
        "CHECK_CLOSE(-2.063911271189e-02, integrator.kineticIntegral(1,0,1,0,1,0), 1e-5);"
       ]
      },
      {
       "output_type": "stream",
       "stream": "stdout",
       "text": [
        "\n",
        "CHECK_CLOSE(8.274267732432e-02, integrator.kineticIntegral(1,0,1,0,1,1), 1e-5);"
       ]
      },
      {
       "output_type": "stream",
       "stream": "stdout",
       "text": [
        "\n",
        "CHECK_CLOSE(-2.942436762098e-01, integrator.kineticIntegral(1,0,1,0,2,0), 1e-5);"
       ]
      },
      {
       "output_type": "stream",
       "stream": "stdout",
       "text": [
        "\n",
        "CHECK_CLOSE(8.042246851468e-02, integrator.kineticIntegral(1,0,1,1,0,0), 1e-5);"
       ]
      },
      {
       "output_type": "stream",
       "stream": "stdout",
       "text": [
        "\n",
        "CHECK_CLOSE(2.789282215612e-01, integrator.kineticIntegral(1,0,1,1,0,1), 1e-5);"
       ]
      },
      {
       "output_type": "stream",
       "stream": "stdout",
       "text": [
        "\n",
        "CHECK_CLOSE(4.686798511658e-02, integrator.kineticIntegral(1,0,1,1,1,0), 1e-5);"
       ]
      },
      {
       "output_type": "stream",
       "stream": "stdout",
       "text": [
        "\n",
        "CHECK_CLOSE(-1.377533371588e-01, integrator.kineticIntegral(1,0,1,2,0,0), 1e-5);"
       ]
      },
      {
       "output_type": "stream",
       "stream": "stdout",
       "text": [
        "\n",
        "CHECK_CLOSE(-3.206327675248e-02, integrator.kineticIntegral(1,1,0,0,0,0), 1e-5);"
       ]
      },
      {
       "output_type": "stream",
       "stream": "stdout",
       "text": [
        "\n",
        "CHECK_CLOSE(-2.063911271189e-02, integrator.kineticIntegral(1,1,0,0,0,1), 1e-5);"
       ]
      },
      {
       "output_type": "stream",
       "stream": "stdout",
       "text": [
        "\n",
        "CHECK_CLOSE(2.930388273683e-02, integrator.kineticIntegral(1,1,0,0,0,2), 1e-5);"
       ]
      },
      {
       "output_type": "stream",
       "stream": "stdout",
       "text": [
        "\n",
        "CHECK_CLOSE(5.617381749247e-02, integrator.kineticIntegral(1,1,0,0,1,0), 1e-5);"
       ]
      },
      {
       "output_type": "stream",
       "stream": "stdout",
       "text": [
        "\n",
        "CHECK_CLOSE(5.013966668720e-02, integrator.kineticIntegral(1,1,0,0,1,1), 1e-5);"
       ]
      },
      {
       "output_type": "stream",
       "stream": "stdout",
       "text": [
        "\n",
        "CHECK_CLOSE(-3.379694245101e-02, integrator.kineticIntegral(1,1,0,0,2,0), 1e-5);"
       ]
      },
      {
       "output_type": "stream",
       "stream": "stdout",
       "text": [
        "\n",
        "CHECK_CLOSE(1.247934856262e-02, integrator.kineticIntegral(1,1,0,1,0,0), 1e-5);"
       ]
      },
      {
       "output_type": "stream",
       "stream": "stdout",
       "text": [
        "\n",
        "CHECK_CLOSE(4.686798511658e-02, integrator.kineticIntegral(1,1,0,1,0,1), 1e-5);"
       ]
      },
      {
       "output_type": "stream",
       "stream": "stdout",
       "text": [
        "\n",
        "CHECK_CLOSE(-1.583728636544e-02, integrator.kineticIntegral(1,1,0,1,1,0), 1e-5);"
       ]
      },
      {
       "output_type": "stream",
       "stream": "stdout",
       "text": [
        "\n",
        "CHECK_CLOSE(-2.137551783499e-02, integrator.kineticIntegral(1,1,0,2,0,0), 1e-5);"
       ]
      },
      {
       "output_type": "stream",
       "stream": "stdout",
       "text": [
        "\n",
        "CHECK_CLOSE(-2.287537353407e-01, integrator.kineticIntegral(2,0,0,0,0,0), 1e-5);"
       ]
      },
      {
       "output_type": "stream",
       "stream": "stdout",
       "text": [
        "\n",
        "CHECK_CLOSE(-3.150543568546e-01, integrator.kineticIntegral(2,0,0,0,0,1), 1e-5);"
       ]
      },
      {
       "output_type": "stream",
       "stream": "stdout",
       "text": [
        "\n",
        "CHECK_CLOSE(-5.213314751101e-01, integrator.kineticIntegral(2,0,0,0,0,2), 1e-5);"
       ]
      },
      {
       "output_type": "stream",
       "stream": "stdout",
       "text": [
        "\n",
        "CHECK_CLOSE(-4.888774502915e-02, integrator.kineticIntegral(2,0,0,0,1,0), 1e-5);"
       ]
      },
      {
       "output_type": "stream",
       "stream": "stdout",
       "text": [
        "\n",
        "CHECK_CLOSE(-3.578401717871e-02, integrator.kineticIntegral(2,0,0,0,1,1), 1e-5);"
       ]
      },
      {
       "output_type": "stream",
       "stream": "stdout",
       "text": [
        "\n",
        "CHECK_CLOSE(-2.962760567236e-01, integrator.kineticIntegral(2,0,0,0,2,0), 1e-5);"
       ]
      },
      {
       "output_type": "stream",
       "stream": "stdout",
       "text": [
        "\n",
        "CHECK_CLOSE(-1.704641488661e-02, integrator.kineticIntegral(2,0,0,1,0,0), 1e-5);"
       ]
      },
      {
       "output_type": "stream",
       "stream": "stdout",
       "text": [
        "\n",
        "CHECK_CLOSE(-2.295888952647e-02, integrator.kineticIntegral(2,0,0,1,0,1), 1e-5);"
       ]
      },
      {
       "output_type": "stream",
       "stream": "stdout",
       "text": [
        "\n",
        "CHECK_CLOSE(-3.562586305832e-03, integrator.kineticIntegral(2,0,0,1,1,0), 1e-5);"
       ]
      },
      {
       "output_type": "stream",
       "stream": "stdout",
       "text": [
        "\n",
        "CHECK_CLOSE(-3.468392469657e-01, integrator.kineticIntegral(2,0,0,2,0,0), 1e-5);"
       ]
      },
      {
       "output_type": "stream",
       "stream": "stdout",
       "text": [
        "\n"
       ]
      }
     ],
     "prompt_number": 4
    },
    {
     "cell_type": "code",
     "collapsed": false,
     "input": [
      "2"
     ],
     "language": "python",
     "metadata": {},
     "outputs": [
      {
       "metadata": {},
       "output_type": "pyout",
       "prompt_number": 5,
       "text": [
        "2"
       ]
      }
     ],
     "prompt_number": 5
    },
    {
     "cell_type": "code",
     "collapsed": false,
     "input": [],
     "language": "python",
     "metadata": {},
     "outputs": []
    }
   ],
   "metadata": {}
  }
 ]
}