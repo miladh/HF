{
 "metadata": {
  "name": ""
 },
 "nbformat": 3,
 "nbformat_minor": 0,
 "worksheets": [
  {
   "cells": [
    {
     "cell_type": "code",
     "collapsed": false,
     "input": [
      "from numpy import *\n",
      "from sympy import *\n",
      "\n",
      "init_printing(use_latex=True)"
     ],
     "language": "python",
     "metadata": {},
     "outputs": [],
     "prompt_number": 36
    },
    {
     "cell_type": "code",
     "collapsed": false,
     "input": [
      "lmax = 0\n",
      "combo=[]\n",
      "\n",
      "for iA in range(0,lmax+1):\n",
      "    for jA in range(0,lmax+1):\n",
      "        for kA in range(0,lmax+1):\n",
      "            for iB in range(0,lmax+1):\n",
      "                for jB in range(0,lmax+1):\n",
      "                    for kB in range(0,lmax+1):\n",
      "                        \n",
      "                        if(iA+jA+kA <= lmax and iB+jB+kB <=lmax):\n",
      "                            combo.append(array((iA, jA, kA, iB, jB, kB)))\n",
      "\n",
      "combo = array(combo)\n",
      "print combo.shape"
     ],
     "language": "python",
     "metadata": {},
     "outputs": [
      {
       "output_type": "stream",
       "stream": "stdout",
       "text": [
        "(1, 6)\n"
       ]
      }
     ],
     "prompt_number": 37
    },
    {
     "cell_type": "markdown",
     "metadata": {},
     "source": [
      "#Overlap"
     ]
    },
    {
     "cell_type": "code",
     "collapsed": false,
     "input": [
      "x, y, z = symbols('x, y, z')\n",
      "\n",
      "alpha = 0.2; beta = 0.3\n",
      "\n",
      "Ax = 1.2; Ay = 2.3; Az = 3.4\n",
      "Bx = -1.3; By = 1.4; Bz = -2.4\n",
      "\n",
      "rA = array([x - Ax, y - Ay, z - Az])\n",
      "rB = array([x - Bx, y - By, z - Bz])\n",
      "\n",
      "for i in range(0,combo.shape[0]):\n",
      "    iA, jA, kA = combo[i,:3]\n",
      "    iB, jB, kB = combo[i,3:6]\n",
      "    I = integrate(rA[0]**iA*rB[0]**iB*rA[1]**jA*rB[1]**jB*rA[2]**kA*rB[2]**kB\\\n",
      "                        *exp(-alpha*dot(rA,rA) - beta*dot(rB,rB)), (x, -oo, oo), (y, -oo, oo), (z, -oo, oo))\n",
      "    \n",
      "    print \"CHECK_CLOSE(\" + str(\"%.12e\" %I) + \", integrator.overlapIntegral(\" \\\n",
      "          + str(iA) + \",\" + str(jA) + \",\" + str(kA) + \",\" \\\n",
      "          + str(iB) + \",\" + str(jB) + \",\" + str(kB) + \")\" \\\n",
      "            + \", 1e-5);\""
     ],
     "language": "python",
     "metadata": {},
     "outputs": [
      {
       "output_type": "stream",
       "stream": "stdout",
       "text": [
        "CHECK_CLOSE(1.191723635809e-01, integrator.overlapIntegral(0,0,0,0,0,0), 1e-5);\n"
       ]
      }
     ],
     "prompt_number": 38
    },
    {
     "cell_type": "markdown",
     "metadata": {},
     "source": [
      "###Overlap derivative"
     ]
    },
    {
     "cell_type": "code",
     "collapsed": false,
     "input": [
      "x, y, z = symbols('x, y, z')\n",
      "Ax, Ay, Az = symbols('A_x, A_y, A_z')\n",
      "\n",
      "alpha = 0.2; beta = 0.3\n",
      "\n",
      "rA = array([x - Ax, y - Ay, z - Az])\n",
      "rB = array([x - Bx, y - By, z - Bz])\n",
      "\n",
      "Ga = rA[0]**iA*rA[1]**jA*rA[2]**kA*exp(-alpha*dot(rA,rA))\n",
      "Gb = rB[0]**iB*rB[1]**jB*rB[2]**kB*exp(-beta*dot(rB,rB))\n",
      "S = Ga*Gb\n",
      "\n",
      "dSAx = diff(S,Ax)\n",
      "dSAy = diff(S,Ay)\n",
      "dSAz = diff(S,Az)\n",
      "\n",
      "display(dSAx, dSAy, dSAz)\n",
      "\n",
      "dSAx =dSAx.subs(Ax, 0.5).subs(Ay, 0.0).subs(Az, 0.0)\n",
      "dSAy =dSAy.subs(Ay, 0.0).subs(Ax, 0.5).subs(Az, 0.0)\n",
      "dSAz =dSAz.subs(Az, 0.0).subs(Ay, 0.0).subs(Ax, 0.5)\n",
      "\n",
      "\n",
      "for i in range(0,combo.shape[0]):\n",
      "    iA, jA, kA = combo[i,:3]\n",
      "    iB, jB, kB = combo[i,3:6]\n",
      "    \n",
      "        \n",
      "    Ix = integrate(dSAx, (x, -oo, oo), (y, -oo, oo), (z, -oo, oo))\n",
      "    Iy = integrate(dSAy, (x, -oo, oo), (y, -oo, oo), (z, -oo, oo))\n",
      "    Iz = integrate(dSAz, (x, -oo, oo), (y, -oo, oo), (z, -oo, oo))\n",
      "    \n",
      "    \n",
      "    \n",
      "print Ix, Iy, Iz\n",
      "\n"
     ],
     "language": "python",
     "metadata": {},
     "outputs": [
      {
       "latex": [
        "$$\\left(- 0.4 A_{x} + 0.4 x\\right) e^{- 0.2 \\left(- A_{x} + x\\right)^{2} - 0.2 \\left(- A_{y} + y\\right)^{2} - 0.2 \\left(- A_{z} + z\\right)^{2}} e^{- 0.3 \\left(x + 1.3\\right)^{2} - 0.3 \\left(y -1.4\\right)^{2} - 0.3 \\left(z + 2.4\\right)^{2}}$$"
       ],
       "metadata": {},
       "output_type": "display_data",
       "png": "[encoded data removed]",
       "text": [
        "                                  2                 2                 2       \n",
        "                   - 0.2\u22c5(-A\u2093 + x)  - 0.2\u22c5(-A_y + y)  - 0.2\u22c5(-A_z + z)   - 0.3\n",
        "(-0.4\u22c5A\u2093 + 0.4\u22c5x)\u22c5\u212f                                                    \u22c5\u212f     \n",
        "\n",
        "          2                2                2\n",
        "\u22c5(x + 1.3)  - 0.3\u22c5(y - 1.4)  - 0.3\u22c5(z + 2.4) \n",
        "                                             "
       ]
      },
      {
       "latex": [
        "$$\\left(- 0.4 A_{y} + 0.4 y\\right) e^{- 0.2 \\left(- A_{x} + x\\right)^{2} - 0.2 \\left(- A_{y} + y\\right)^{2} - 0.2 \\left(- A_{z} + z\\right)^{2}} e^{- 0.3 \\left(x + 1.3\\right)^{2} - 0.3 \\left(y -1.4\\right)^{2} - 0.3 \\left(z + 2.4\\right)^{2}}$$"
       ],
       "metadata": {},
       "output_type": "display_data",
       "png": "[encoded data removed]",
       "text": [
        "                                   2                 2                 2      \n",
        "                    - 0.2\u22c5(-A\u2093 + x)  - 0.2\u22c5(-A_y + y)  - 0.2\u22c5(-A_z + z)   - 0.\n",
        "(-0.4\u22c5A_y + 0.4\u22c5y)\u22c5\u212f                                                    \u22c5\u212f    \n",
        "\n",
        "           2                2                2\n",
        "3\u22c5(x + 1.3)  - 0.3\u22c5(y - 1.4)  - 0.3\u22c5(z + 2.4) \n",
        "                                              "
       ]
      },
      {
       "latex": [
        "$$\\left(- 0.4 A_{z} + 0.4 z\\right) e^{- 0.2 \\left(- A_{x} + x\\right)^{2} - 0.2 \\left(- A_{y} + y\\right)^{2} - 0.2 \\left(- A_{z} + z\\right)^{2}} e^{- 0.3 \\left(x + 1.3\\right)^{2} - 0.3 \\left(y -1.4\\right)^{2} - 0.3 \\left(z + 2.4\\right)^{2}}$$"
       ],
       "metadata": {},
       "output_type": "display_data",
       "png": "[encoded data removed]",
       "text": [
        "                                   2                 2                 2      \n",
        "                    - 0.2\u22c5(-A\u2093 + x)  - 0.2\u22c5(-A_y + y)  - 0.2\u22c5(-A_z + z)   - 0.\n",
        "(-0.4\u22c5A_z + 0.4\u22c5z)\u22c5\u212f                                                    \u22c5\u212f    \n",
        "\n",
        "           2                2                2\n",
        "3\u22c5(x + 1.3)  - 0.3\u22c5(y - 1.4)  - 0.3\u22c5(z + 2.4) \n",
        "                                              "
       ]
      },
      {
       "output_type": "stream",
       "stream": "stdout",
       "text": [
        "-0.32797794297123*pi**(3/2) -2.76746262145983e-17*pi + 0.25509395564429*pi**(3/2) -0.0734402889678609*sqrt(pi)*(2.97727534918207*pi + sqrt(pi)*(1.0368 + 2.53107883628894*sqrt(pi))) + 0.0761428916018781*pi*(-0.430359290984892*sqrt(pi) + 1.0)\n"
       ]
      }
     ],
     "prompt_number": 56
    },
    {
     "cell_type": "code",
     "collapsed": false,
     "input": [
      "\n",
      "\n",
      "for i in range(0,combo.shape[0]):\n",
      "    iA, jA, kA = combo[i,:3]\n",
      "    iB, jB, kB = combo[i,3:6]\n",
      "    S = rA[0]**iA*rB[0]**iB*rA[1]**jA*rB[1]**jB*rA[2]**kA*rB[2]**kB\\\n",
      "                        *exp(-alpha*dot(rA,rA) - beta*dot(rB,rB))\n",
      "        \n",
      "    I = integrate(S, (x, -oo, oo), (y, -oo, oo), (z, -oo, oo))\n",
      "    \n",
      "    print \"CHECK_CLOSE(\" + str(\"%.12e\" %I) + \", integrator.overlapIntegral(\" \\\n",
      "          + str(iA) + \",\" + str(jA) + \",\" + str(kA) + \",\" \\\n",
      "          + str(iB) + \",\" + str(jB) + \",\" + str(kB) + \")\" \\\n",
      "            + \", 1e-5);\""
     ],
     "language": "python",
     "metadata": {},
     "outputs": [],
     "prompt_number": 21
    },
    {
     "cell_type": "markdown",
     "metadata": {},
     "source": [
      "#Kinetic Integral"
     ]
    },
    {
     "cell_type": "code",
     "collapsed": false,
     "input": [
      "x, y, z = symbols('x, y, z')\n",
      "\n",
      "alpha = 0.2; beta = 0.3\n",
      "\n",
      "Ax = 1.2; Ay = 2.3; Az = 3.4\n",
      "Bx = -1.3; By = 1.4; Bz = -2.4\n",
      "\n",
      "rA = array([x - Ax, y - Ay, z - Az])\n",
      "rB = array([x - Bx, y - By, z - Bz])\n",
      "\n",
      "for i in range(0,combo.shape[0]):\n",
      "    iA, jA, kA = combo[i,:3]\n",
      "    iB, jB, kB = combo[i,3:6]\n",
      "    I = integrate(rA[0]**iA*rB[0]**jA*rA[1]**kA*rB[1]**iB*rA[2]**jB*rB[2]**kB\\\n",
      "                        *exp(-alpha*dot(rA,rA) - beta*dot(rB,rB)), (x, -oo, oo), (y, -oo, oo), (z, -oo, oo))\n",
      "    \n",
      "    \n",
      "    Ga = rA[0]**iA*rA[1]**jA*rA[2]**kA*exp(-alpha*dot(rA,rA))\n",
      "    Gb = rB[0]**iB*rB[1]**jB*rB[2]**kB*exp(-beta*dot(rB,rB))\n",
      "    Gbxx = diff(Gb, x, x)\n",
      "    Gbyy = diff(Gb, y, y)\n",
      "    Gbzz = diff(Gb, z, z)\n",
      "    T = -0.5*integrate(Ga*(Gbxx + Gbyy + Gbzz), (x,-oo,oo), (y,-oo,oo), (z,-oo,oo))\n",
      "    \n",
      "    print \"CHECK_CLOSE(\" + str(\"%.12e\" %T) + \", integrator.kineticIntegral(\" \\\n",
      "          + str(iA) + \",\" + str(jA) + \",\" + str(kA) + \",\" \\\n",
      "          + str(iB) + \",\" + str(jB) + \",\" + str(kB) + \")\" \\\n",
      "            + \", 1e-5);\"\n"
     ],
     "language": "python",
     "metadata": {},
     "outputs": [],
     "prompt_number": 4
    },
    {
     "cell_type": "code",
     "collapsed": false,
     "input": [],
     "language": "python",
     "metadata": {},
     "outputs": [
      {
       "metadata": {},
       "output_type": "pyout",
       "prompt_number": 5,
       "text": [
        "2"
       ]
      }
     ],
     "prompt_number": 5
    },
    {
     "cell_type": "code",
     "collapsed": false,
     "input": [],
     "language": "python",
     "metadata": {},
     "outputs": []
    }
   ],
   "metadata": {}
  }
 ]
}