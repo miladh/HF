{
 "metadata": {
  "name": ""
 },
 "nbformat": 3,
 "nbformat_minor": 0,
 "worksheets": [
  {
   "cells": [
    {
     "cell_type": "code",
     "collapsed": false,
     "input": [
      "from pylab import*\n",
      "from scipy.integrate import tplquad"
     ],
     "language": "python",
     "metadata": {},
     "outputs": [],
     "prompt_number": 1
    },
    {
     "cell_type": "markdown",
     "metadata": {},
     "source": [
      "### Gaussian class:"
     ]
    },
    {
     "cell_type": "code",
     "collapsed": false,
     "input": [
      "class gaussian():\n",
      "    \n",
      "    def __init__(self,R,alpha):\n",
      "        self.R = R\n",
      "        self.alpha = alpha\n",
      "        self.i, self.j, self.k = 0 ,0,0\n",
      "        \n",
      "    def __call__(self,x,y,z):\n",
      "        i, j, k = self.i, self.j, self.k\n",
      "        R = self.R; alpha = self.alpha\n",
      "        \n",
      "        coff = (x-R[0])**i * (y-R[1])**j * (z-R[2])**k\n",
      "        Ra = (x-R[0])**2 + (y-R[1])**2 + (z-R[2])**2\n",
      "        expon = exp(-alpha*Ra)\n",
      "        \n",
      "        return coff*expon"
     ],
     "language": "python",
     "metadata": {},
     "outputs": [],
     "prompt_number": 2
    },
    {
     "cell_type": "markdown",
     "metadata": {},
     "source": [
      "###Cases:"
     ]
    },
    {
     "cell_type": "code",
     "collapsed": false,
     "input": [
      "lmax = 0\n",
      "combo=[]\n",
      "\n",
      "for iA in range(0,lmax+1):\n",
      "    for jA in range(0,lmax+1):\n",
      "        for kA in range(0,lmax+1):\n",
      "            for iB in range(0,lmax+1):\n",
      "                for jB in range(0,lmax+1):\n",
      "                    for kB in range(0,lmax+1):\n",
      "                        for iC in range(0,lmax+1):\n",
      "                            for jC in range(0,lmax+1):\n",
      "                                for kC in range(0,lmax+1):\n",
      "                                    for iD in range(0,lmax+1):\n",
      "                                        for jD in range(0,lmax+1):\n",
      "                                            for kD in range(0,lmax+1):\n",
      "                        \n",
      "                                                if(iA+jA+kA <= lmax \n",
      "                                                   and iB+jB+kB <=lmax \n",
      "                                                   and iC+jC+kC <=lmax \n",
      "                                                   and iD+jD+kD <=lmax):\n",
      "                                                    combo.append(array((iA, jA, kA, \n",
      "                                                                        iB, jB, kB,\n",
      "                                                                        iC, jC, kC,\n",
      "                                                                        iD, jD, kD)))\n",
      "\n",
      "combo = array(combo)\n",
      "print combo.shape\n",
      "print combo\n",
      "    "
     ],
     "language": "python",
     "metadata": {},
     "outputs": [
      {
       "output_type": "stream",
       "stream": "stdout",
       "text": [
        "(1, 12)\n",
        "[[0 0 0 0 0 0 0 0 0 0 0 0]]\n"
       ]
      }
     ],
     "prompt_number": 3
    },
    {
     "cell_type": "markdown",
     "metadata": {},
     "source": [
      "###Limits:"
     ]
    },
    {
     "cell_type": "code",
     "collapsed": false,
     "input": [
      "def lowL(x, y=0):\n",
      "    return -1.0\n",
      "    \n",
      "def upL(x, y=0):\n",
      "    return 1.0\n",
      "\n",
      "def integrand(x1,y1,z1,x2,y2,z2):\n",
      "    return Ga(x1,y1,z1)*Gb(x1,y1,z1)*Gc(x2,y2,z2)*Gd(x2,y2,z2)/sqrt((x1-x2)**2 + (y1-y2)**2 + (z1-z2)**2)\n",
      "    \n",
      "def secondIntegrals(x, y, z):\n",
      "    I = tplquad(integrand, lowL(0), upL(0), lowL, upL, lowL, upL, args=(x, y, z))\n",
      "    return I[0]"
     ],
     "language": "python",
     "metadata": {},
     "outputs": [],
     "prompt_number": 4
    },
    {
     "cell_type": "markdown",
     "metadata": {},
     "source": [
      "###Calculate integrals:"
     ]
    },
    {
     "cell_type": "code",
     "collapsed": false,
     "input": [
      "A = array((1.2,2.3,3.4))\n",
      "B = array((-1.3,1.4,-2.4))\n",
      "C = array((2.3,0.9,3.2))\n",
      "D = array((-2.0,1.9,2.2))\n",
      "a = 0.2\n",
      "b = 0.3\n",
      "c = 0.4\n",
      "d = 0.5\n",
      "Ga = gaussian(A,a)\n",
      "Gb = gaussian(B,b)\n",
      "Gc = gaussian(C,c)\n",
      "Gd = gaussian(D,d)\n",
      "\n",
      "import time\n",
      "\n",
      "t0 = time.time()\n",
      "results = []\n",
      "error = []\n",
      "\n",
      "for i in range(0,combo.shape[0]):\n",
      "    Ga.i, Ga.j, Ga.k = combo[i,:3]\n",
      "    Gb.i, Gb.j, Gb.k = combo[i,3:6]\n",
      "    Gc.i, Gc.j, Gc.k = combo[i,6:9]\n",
      "    Gd.i, Gd.j, Gd.k = combo[i,9:12]\n",
      "    \n",
      "    \n",
      "    I = tplquad(secondIntegrals, lowL(0), upL(0), lowL, upL, lowL, upL)\n",
      "    \n",
      "    \n",
      "    results.append(\"CHECK_CLOSE(\" + str(\"%.12e\" %I[0]) + \", integrator.electronRepulsionIntegral(\" \\\n",
      "          + str(Ga.i) + \",\" + str(Ga.j) + \",\" + str(Ga.k) + \",\" \\\n",
      "          + str(Gb.i) + \",\" + str(Gb.j) + \",\" + str(Gb.k) + \",\" \\\n",
      "          + str(Gc.i) + \",\" + str(Gc.j) + \",\" + str(Gc.k) + \",\" \\\n",
      "          + str(Gd.i) + \",\" + str(Gd.j) + \",\" + str(Gd.k) + \")\" \\\n",
      "            + \", 1e-5);\")\n",
      "    \n",
      "    error.append(str(\"%.12e\" %I[0]) + \",  \" + str(\"%.12e\" %I[1]) + \"   \" + str(combo[i,:]))\n",
      "\n",
      "    print results[-1]\n",
      "\n",
      "dt = time.time()-t0\n",
      "#print dt/60.0\n",
      "\n",
      "\n",
      "\n",
      "\n",
      "#f = open(\"coulomb2\", \"w\")\n",
      "#f.write(\"\\n\".join(map(lambda x: str(x), results)))\n",
      "#f.close()\n",
      "\n",
      "#e = open(\"coulomb2Error\", \"w\")\n",
      "#e.write(\"\\n\".join(map(lambda x: str(x), error)))\n",
      "#e.close()\n",
      "\n",
      "\n",
      "\n",
      "\n",
      "\n"
     ],
     "language": "python",
     "metadata": {},
     "outputs": [],
     "prompt_number": "*"
    },
    {
     "cell_type": "code",
     "collapsed": false,
     "input": [
      "print dt/3600"
     ],
     "language": "python",
     "metadata": {},
     "outputs": []
    },
    {
     "cell_type": "code",
     "collapsed": false,
     "input": [],
     "language": "python",
     "metadata": {},
     "outputs": []
    },
    {
     "cell_type": "code",
     "collapsed": false,
     "input": [],
     "language": "python",
     "metadata": {},
     "outputs": []
    },
    {
     "cell_type": "code",
     "collapsed": false,
     "input": [],
     "language": "python",
     "metadata": {},
     "outputs": []
    },
    {
     "cell_type": "code",
     "collapsed": false,
     "input": [],
     "language": "python",
     "metadata": {},
     "outputs": []
    },
    {
     "cell_type": "code",
     "collapsed": false,
     "input": [],
     "language": "python",
     "metadata": {},
     "outputs": []
    },
    {
     "cell_type": "code",
     "collapsed": false,
     "input": [
      "import numpy\n",
      "import scipy.integrate\n",
      "import math\n",
      "\n",
      "def w(r, theta, phi, alpha, beta, gamma):\n",
      "    return(-math.log(theta * beta))\n",
      "\n",
      "def integrand(phi, alpha, gamma, r, theta, beta):\n",
      "    ww = w(r, theta, phi, alpha, beta, gamma)\n",
      "    k = 1.\n",
      "    T = 1.\n",
      "    return (math.exp(-ww/(k*T)) - 1.)*r*r*math.sin(beta)*math.sin(theta)\n",
      "\n",
      "# limits of integration\n",
      "\n",
      "def zero(x, y=0):\n",
      "    return 0.\n",
      "\n",
      "def one(x, y=0):\n",
      "    return 1.\n",
      "\n",
      "def pi(x, y=0):\n",
      "    return math.pi\n",
      "\n",
      "def twopi(x, y=0):\n",
      "    return 2.*math.pi\n",
      "\n",
      "# integrate over phi [0, Pi), alpha [0, 2 Pi), gamma [0, 2 Pi)\n",
      "def secondIntegrals(r, theta, beta):\n",
      "    res, err = scipy.integrate.tplquad(integrand, 0., 2.*math.pi, zero, twopi, zero, pi, args=(r, theta, beta))\n",
      "    return res\n",
      "\n",
      "# integrate over r [0, 1), beta [0, 2 Pi), theta [0, 2 Pi)\n",
      "def integral():\n",
      "    return scipy.integrate.tplquad(secondIntegrals, 0., 2.*math.pi, zero, twopi, zero, one)\n",
      "\n",
      "expected = 16*math.pow(math.pi,5)/3.\n",
      "result, err = integral()\n",
      "diff = abs(result - expected)\n",
      "\n",
      "print \"Result = \", result, \" estimated error = \", err\n",
      "print \"Known result = \", expected, \" error = \", diff, \" = \", 100.*diff/expected,"
     ],
     "language": "python",
     "metadata": {},
     "outputs": []
    },
    {
     "cell_type": "code",
     "collapsed": false,
     "input": [
      "import mcint\n",
      "import random\n",
      "import math\n",
      "\n",
      "def w(r, theta, phi, alpha, beta, gamma):\n",
      "    return(-math.log(theta * beta))\n",
      "\n",
      "def integrand(x):\n",
      "    r     = x[0]\n",
      "    theta = x[1]\n",
      "    alpha = x[2]\n",
      "    beta  = x[3]\n",
      "    gamma = x[4]\n",
      "    phi   = x[5]\n",
      "\n",
      "    k = 1.\n",
      "    T = 1.\n",
      "    ww = w(r, theta, phi, alpha, beta, gamma)\n",
      "    return (math.exp(-ww/(k*T)) - 1.)*r*r*math.sin(beta)*math.sin(theta)\n",
      "\n",
      "def sampler():\n",
      "    while True:\n",
      "        r     = random.uniform(0.,1.)\n",
      "        theta = random.uniform(0.,2.*math.pi)\n",
      "        alpha = random.uniform(0.,2.*math.pi)\n",
      "        beta  = random.uniform(0.,2.*math.pi)\n",
      "        gamma = random.uniform(0.,2.*math.pi)\n",
      "        phi   = random.uniform(0.,math.pi)\n",
      "        yield (r, theta, alpha, beta, gamma, phi)\n",
      "\n",
      "\n",
      "domainsize = math.pow(2*math.pi,4)*math.pi*1\n",
      "expected = 16*math.pow(math.pi,5)/3.\n",
      "\n",
      "for nmc in [1000, 10000, 100000, 1000000, 10000000, 100000000]:\n",
      "    random.seed(1)\n",
      "    result, error = mcint.integrate(integrand, sampler(), measure=domainsize, n=nmc)\n",
      "    diff = abs(result - expected)\n",
      "\n",
      "    print \"Using n = \", nmc\n",
      "    print \"Result = \", result, \"estimated error = \", error\n",
      "    print \"Known result = \", expected, \" error = \", diff, \" = \", 100.*diff/expected, \"%\"\n",
      "    print \" \""
     ],
     "language": "python",
     "metadata": {},
     "outputs": []
    }
   ],
   "metadata": {}
  }
 ]
}