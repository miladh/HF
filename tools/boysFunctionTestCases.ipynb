{
 "metadata": {
  "name": ""
 },
 "nbformat": 3,
 "nbformat_minor": 0,
 "worksheets": [
  {
   "cells": [
    {
     "cell_type": "markdown",
     "metadata": {},
     "source": [
      "#Evaluation of the Boys function\n",
      "\n",
      "\n",
      "$$F_n(x) = \\int_0^1 \\exp(-xt^2) t^{2n}dt $$\n",
      "\n",
      "\n",
      "- For large $x$, we use the asymptotic form:\n",
      "\n",
      "$$\n",
      "F_n(x) \\approx \\frac{(2n-1)!!}{2^{n+1}} \\sqrt{\\frac{\\pi}{x^{2n+1}}}\n",
      "$$\n",
      "\n",
      "- For small $x$, we Taylor expand about $x = 0$:\n",
      "\n",
      "$$\n",
      "F_n(x) \\approx \\sum_{k=0}^{\\infty} \\frac{(-x)^k}{k!(2n+2k+1)}\n",
      "$$\n",
      "\n",
      "- For intermediate $x$, we Taylor expand about pretabulated values of $ F_n (x)$:\n",
      "\n",
      "$$\n",
      "F_n(x_t+\\Delta t) \\approx \\sum_{k=0}^{\\infty} \\frac{F_{n+k}(x_t) (-\\Delta x)^k}{k!}\n",
      "$$\n",
      "\n",
      "###Boys function for $n=0$:\n",
      "\n",
      "$$\n",
      "F_0(x) = erf(\\sqrt{x}) \\frac{\\sqrt{\\pi}}{2\\sqrt{x}}\n",
      "$$\n",
      "\n",
      "###Boys function for $x=0$:\n",
      "\n",
      "$$\n",
      "F_n(0) = \\frac{1}{2n+1}\n",
      "$$"
     ]
    },
    {
     "cell_type": "markdown",
     "metadata": {},
     "source": [
      "###Test for $F_n(0)$:"
     ]
    },
    {
     "cell_type": "code",
     "collapsed": false,
     "input": [
      "from math import*\n",
      "def taylorExpandedBoysFunction(x,n,nterms):\n",
      "    F = 0.0\n",
      "    \n",
      "    for k in range(0, nterms):\n",
      "        F += float((-x)**k) / (factorial(k) * (2*n + 2*k + 1));\n",
      "    \n",
      "    return F"
     ],
     "language": "python",
     "metadata": {},
     "outputs": [],
     "prompt_number": 50
    },
    {
     "cell_type": "code",
     "collapsed": false,
     "input": [
      "n_max = 10\n",
      "F_exact = zeros(n_max)\n",
      "F_approx = zeros(n_max)\n",
      "\n",
      "for n in range(0,n_max,1):\n",
      "    F_exact[n] = 1.0/(2*n+1)\n",
      "    F_approx[n] = taylorExpandedBoysFunction(0,n,6)\n",
      "    \n",
      "    print \"CHECK_CLOSE(integrator.boysFunction(\" \\\n",
      "          +str(0) + \",\" + str(n)+ \")\"+ \", \" + str(F_exact[n])\\\n",
      "          + \", 1e-10);\"\n",
      "    \n",
      "print \"\\n\", F_exact - F_approx\n",
      "    \n",
      "    "
     ],
     "language": "python",
     "metadata": {},
     "outputs": [
      {
       "output_type": "stream",
       "stream": "stdout",
       "text": [
        "CHECK_CLOSE(integrator.boysFunction(0,0), 1.0, 1e-10);\n",
        "CHECK_CLOSE(integrator.boysFunction(0,1), 0.333333333333, 1e-10);\n",
        "CHECK_CLOSE(integrator.boysFunction(0,2), 0.2, 1e-10);\n",
        "CHECK_CLOSE(integrator.boysFunction(0,3), 0.142857142857, 1e-10);\n",
        "CHECK_CLOSE(integrator.boysFunction(0,4), 0.111111111111, 1e-10);\n",
        "CHECK_CLOSE(integrator.boysFunction(0,5), 0.0909090909091, 1e-10);\n",
        "CHECK_CLOSE(integrator.boysFunction(0,6), 0.0769230769231, 1e-10);\n",
        "CHECK_CLOSE(integrator.boysFunction(0,7), 0.0666666666667, 1e-10);\n",
        "CHECK_CLOSE(integrator.boysFunction(0,8), 0.0588235294118, 1e-10);\n",
        "CHECK_CLOSE(integrator.boysFunction(0,9), 0.0526315789474, 1e-10);\n",
        "\n",
        "[ 0.  0.  0.  0.  0.  0.  0.  0.  0.  0.]\n"
       ]
      }
     ],
     "prompt_number": 51
    },
    {
     "cell_type": "markdown",
     "metadata": {},
     "source": [
      "###Test for $F_0(x)$ for small $x < 0.09$:"
     ]
    },
    {
     "cell_type": "code",
     "collapsed": false,
     "input": [
      "def erfVersionOfBoysFunction(x):\n",
      "    return erf(sqrt(x))*sqrt(pi)/(2*sqrt(x))"
     ],
     "language": "python",
     "metadata": {},
     "outputs": [],
     "prompt_number": 52
    },
    {
     "cell_type": "code",
     "collapsed": false,
     "input": [
      "xValues = linspace(0.01,0.09,10)\n",
      "nValues  = len(xValues)\n",
      "F_exact = zeros(nValues)\n",
      "F_approx = zeros(nValues)\n",
      "\n",
      "for i in range(0, nValues):\n",
      "    F_exact[i]  = erfVersionOfBoysFunction(xValues[i])\n",
      "    F_approx[i] = taylorExpandedBoysFunction(xValues[i], 0, 6)\n",
      "    \n",
      "    print \"CHECK_CLOSE(integrator.boysFunction(\" \\\n",
      "          +str(xValues[i]) + \",\" + str(0) + \")\"+ \", \" + str(F_exact[i])\\\n",
      "          + \", 1e-10);\"\n",
      "    \n",
      "print \"\\n\", F_exact - F_approx"
     ],
     "language": "python",
     "metadata": {},
     "outputs": [
      {
       "output_type": "stream",
       "stream": "stdout",
       "text": [
        "CHECK_CLOSE(integrator.boysFunction(0.01,0), 0.996676642903, 1e-10);\n",
        "CHECK_CLOSE(integrator.boysFunction(0.0188888888889,0), 0.993739222842, 1e-10);\n",
        "CHECK_CLOSE(integrator.boysFunction(0.0277777777778,0), 0.990817393658, 1e-10);\n",
        "CHECK_CLOSE(integrator.boysFunction(0.0366666666667,0), 0.987911056819, 1e-10);\n",
        "CHECK_CLOSE(integrator.boysFunction(0.0455555555556,0), 0.985020114475, 1e-10);\n",
        "CHECK_CLOSE(integrator.boysFunction(0.0544444444444,0), 0.982144469445, 1e-10);\n",
        "CHECK_CLOSE(integrator.boysFunction(0.0633333333333,0), 0.97928402522, 1e-10);\n",
        "CHECK_CLOSE(integrator.boysFunction(0.0722222222222,0), 0.976438685953, 1e-10);\n",
        "CHECK_CLOSE(integrator.boysFunction(0.0811111111111,0), 0.973608356454, 1e-10);\n",
        "CHECK_CLOSE(integrator.boysFunction(0.09,0), 0.97079294219, 1e-10);\n",
        "\n",
        "[ -1.11022302e-16   4.77395901e-15   4.89608354e-14   2.58126853e-13\n",
        "   9.49351708e-13   2.76356715e-12   6.84086121e-12   1.50270907e-11\n",
        "   3.01204617e-11   5.61511948e-11]\n"
       ]
      }
     ],
     "prompt_number": 53
    },
    {
     "cell_type": "markdown",
     "metadata": {},
     "source": [
      "###Test for $F_0(x)$ for large $x > 20$:"
     ]
    },
    {
     "cell_type": "code",
     "collapsed": false,
     "input": [
      "def factorialBoysFunction(x,n):\n",
      "\n",
      "    return 1.0/(2**(n+1)) * sqrt(pi/x**(2*n+1))"
     ],
     "language": "python",
     "metadata": {},
     "outputs": [],
     "prompt_number": 59
    },
    {
     "cell_type": "code",
     "collapsed": false,
     "input": [
      "xValues = linspace(20,100,10)\n",
      "nValues  = len(xValues)\n",
      "F_exact = zeros(nValues)\n",
      "F_approx = zeros(nValues)\n",
      "\n",
      "for i in range(0, nValues):\n",
      "    F_exact[i]  = erfVersionOfBoysFunction(xValues[i])\n",
      "    F_approx[i] = factorialBoysFunction(xValues[i], 0)\n",
      "    \n",
      "    print \"CHECK_CLOSE(integrator.boysFunction(\" \\\n",
      "          +str(xValues[i]) + \",\" + str(0) + \")\"+ \", \" + str(F_exact[i])\\\n",
      "          + \", 1e-10);\"\n",
      "    \n",
      "print \"\\n\", F_exact - F_approx"
     ],
     "language": "python",
     "metadata": {},
     "outputs": [
      {
       "output_type": "stream",
       "stream": "stdout",
       "text": [
        "CHECK_CLOSE(integrator.boysFunction(20.0,0), 0.19816636483, 1e-10);\n",
        "CHECK_CLOSE(integrator.boysFunction(28.8888888889,0), 0.164884382227, 1e-10);\n",
        "CHECK_CLOSE(integrator.boysFunction(37.7777777778,0), 0.144187209502, 1e-10);\n",
        "CHECK_CLOSE(integrator.boysFunction(46.6666666667,0), 0.12973033818, 1e-10);\n",
        "CHECK_CLOSE(integrator.boysFunction(55.5555555556,0), 0.118899818928, 1e-10);\n",
        "CHECK_CLOSE(integrator.boysFunction(64.4444444444,0), 0.110395710425, 1e-10);\n",
        "CHECK_CLOSE(integrator.boysFunction(73.3333333333,0), 0.103489008863, 1e-10);\n",
        "CHECK_CLOSE(integrator.boysFunction(82.2222222222,0), 0.0977350491129, 1e-10);\n",
        "CHECK_CLOSE(integrator.boysFunction(91.1111111111,0), 0.0928451600494, 1e-10);\n",
        "CHECK_CLOSE(integrator.boysFunction(100.0,0), 0.0886226925453, 1e-10);\n",
        "\n",
        "[ -5.03269093e-11  -4.82947016e-15  -2.77555756e-17   0.00000000e+00\n",
        "   0.00000000e+00   0.00000000e+00  -1.38777878e-17   0.00000000e+00\n",
        "   0.00000000e+00   0.00000000e+00]\n"
       ]
      }
     ],
     "prompt_number": 61
    },
    {
     "cell_type": "code",
     "collapsed": false,
     "input": [],
     "language": "python",
     "metadata": {},
     "outputs": [],
     "prompt_number": 54
    }
   ],
   "metadata": {}
  }
 ]
}