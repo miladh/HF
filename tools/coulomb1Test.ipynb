{
 "metadata": {
  "name": ""
 },
 "nbformat": 3,
 "nbformat_minor": 0,
 "worksheets": [
  {
   "cells": [
    {
     "cell_type": "code",
     "collapsed": false,
     "input": [
      "#from pylab import*\n",
      "#from scipy.integrate import tplquad\n",
      "#from numpy import *\n",
      "from sympy import *\n",
      "\n",
      "init_printing(use_latex=True)"
     ],
     "language": "python",
     "metadata": {},
     "outputs": [],
     "prompt_number": 1
    },
    {
     "cell_type": "code",
     "collapsed": false,
     "input": [
      "Ax, Ay, Az = symbols('A_x, A_y, A_z')\n",
      "Bx, By, Bz = symbols('B_x, B_y, B_z')\n",
      "\n",
      "R = sqrt((Ax-Bx)**2+ (Ay-By)**2 + (Az-Bz)**2)\n",
      "\n",
      "V = 1.0/R\n",
      "diff(R,Ax) *-1/R**2\n"
     ],
     "language": "python",
     "metadata": {},
     "outputs": [
      {
       "latex": [
        "$$- \\frac{A_{x} - B_{x}}{\\left(\\left(A_{x} - B_{x}\\right)^{2} + \\left(A_{y} - B_{y}\\right)^{2} + \\left(A_{z} - B_{z}\\right)^{2}\\right)^{\\frac{3}{2}}}$$"
       ],
       "metadata": {},
       "output_type": "pyout",
       "png": "[encoded data removed]",
       "prompt_number": 18,
       "text": [
        "                  -(A\u2093 - B\u2093)                 \n",
        "\u2500\u2500\u2500\u2500\u2500\u2500\u2500\u2500\u2500\u2500\u2500\u2500\u2500\u2500\u2500\u2500\u2500\u2500\u2500\u2500\u2500\u2500\u2500\u2500\u2500\u2500\u2500\u2500\u2500\u2500\u2500\u2500\u2500\u2500\u2500\u2500\u2500\u2500\u2500\u2500\u2500\u2500\u2500\u2500\u2500\n",
        "                                          3/2\n",
        "\u239b         2              2              2\u239e   \n",
        "\u239d(A\u2093 - B\u2093)  + (A_y - B_y)  + (A_z - B_z) \u23a0   "
       ]
      }
     ],
     "prompt_number": 18
    },
    {
     "cell_type": "markdown",
     "metadata": {},
     "source": [
      "### Gaussian class:"
     ]
    },
    {
     "cell_type": "code",
     "collapsed": false,
     "input": [
      "class gaussian():\n",
      "    \n",
      "    def __init__(self,R,alpha):\n",
      "        self.R = R\n",
      "        self.alpha = alpha\n",
      "        self.i, self.j, self.k = 0 ,0,0\n",
      "        \n",
      "    def __call__(self,x,y,z):\n",
      "        i, j, k = self.i, self.j, self.k\n",
      "        R = self.R; alpha = self.alpha\n",
      "        \n",
      "        coff = (x-R[0])**i * (y-R[1])**j * (z-R[2])**k\n",
      "        Ra = (x-R[0])**2 + (y-R[1])**2 + (z-R[2])**2\n",
      "        expon = exp(-alpha*Ra)\n",
      "        \n",
      "        return coff*expon"
     ],
     "language": "python",
     "metadata": {},
     "outputs": [],
     "prompt_number": 7
    },
    {
     "cell_type": "markdown",
     "metadata": {},
     "source": [
      "###Cases:"
     ]
    },
    {
     "cell_type": "code",
     "collapsed": false,
     "input": [
      "lmax = 2\n",
      "combo=[]\n",
      "\n",
      "for iA in range(0,lmax+1):\n",
      "    for jA in range(0,lmax+1):\n",
      "        for kA in range(0,lmax+1):\n",
      "            for iB in range(0,lmax+1):\n",
      "                for jB in range(0,lmax+1):\n",
      "                    for kB in range(0,lmax+1):\n",
      "                        \n",
      "                        if(iA+jA+kA <= lmax and iB+jB+kB <=lmax):\n",
      "                            combo.append(array((iA, jA, kA, iB, jB, kB)))\n",
      "\n",
      "combo = array(combo)\n",
      "print combo.shape\n",
      "\n",
      "    "
     ],
     "language": "python",
     "metadata": {},
     "outputs": [
      {
       "output_type": "stream",
       "stream": "stdout",
       "text": [
        "(100, 6)\n"
       ]
      }
     ],
     "prompt_number": 3
    },
    {
     "cell_type": "markdown",
     "metadata": {},
     "source": [
      "###Limits:"
     ]
    },
    {
     "cell_type": "code",
     "collapsed": false,
     "input": [
      "upL = -10\n",
      "lowL =  10"
     ],
     "language": "python",
     "metadata": {},
     "outputs": [],
     "prompt_number": 4
    },
    {
     "cell_type": "markdown",
     "metadata": {},
     "source": [
      "###Calculate integrals:"
     ]
    },
    {
     "cell_type": "code",
     "collapsed": false,
     "input": [
      "A = array((1.2,2.3,3.4))\n",
      "B = array((-1.3,1.4,-2.4))\n",
      "a = 0.2\n",
      "b = 0.3\n",
      "Ga = gaussian(A,a)\n",
      "Gb = gaussian(B,b)\n",
      "C = array((2.3,0.9,3.2))\n",
      "\n",
      "import time\n",
      "\n",
      "t0 = time.time()\n",
      "results = []\n",
      "error = []\n",
      "\n",
      "#combo = zeros((1,6))\n",
      "#combo[0,:] = array([1,0,0,0,0,0])\n",
      "\n",
      "\n",
      "for i in range(0,combo.shape[0]):\n",
      "    Ga.i, Ga.j, Ga.k = combo[i,:3]\n",
      "    Gb.i, Gb.j, Gb.k = combo[i,3:6]\n",
      "    \n",
      "    I = tplquad(lambda x,y,z: \n",
      "                Ga(x,y,z)*Gb(x,y,z)/sqrt((x-C[0])**2 + (y-C[1])**2 + (z-C[2])**2),\n",
      "                upL, lowL, lambda y: upL, lambda y: lowL, lambda x,y: upL, lambda x,y: lowL)\n",
      "    \n",
      "    \n",
      "    results.append(\"CHECK_CLOSE(\" + str(\"%.12e\" %I[0]) + \", integrator.nuclearAttractionIntegral(\" \\\n",
      "          + str(Ga.i) + \",\" + str(Ga.j) + \",\" + str(Ga.k) + \",\" \\\n",
      "          + str(Gb.i) + \",\" + str(Gb.j) + \",\" + str(Gb.k) + \")\" \\\n",
      "            + \", 1e-5);\")\n",
      "    \n",
      "    error.append(str(\"%.12e\" %I[0]) + \",  \" + str(\"%.12e\" %I[1]) + \"   \" + str(combo[i,:]))\n",
      "\n",
      "    print results[-1]\n",
      "\n",
      "dt = time.time()-t0\n",
      "#print dt/60.0\n",
      "\n",
      "\n",
      "\n",
      "\n",
      "f = open(\"coulomb\", \"w\")\n",
      "f.write(\"\\n\".join(map(lambda x: str(x), results)))\n",
      "f.close()\n",
      "\n",
      "e = open(\"coulombError\", \"w\")\n",
      "e.write(\"\\n\".join(map(lambda x: str(x), error)))\n",
      "e.close()\n",
      "\n",
      "\n",
      "\n",
      "\n",
      "\n"
     ],
     "language": "python",
     "metadata": {},
     "outputs": [
      {
       "output_type": "stream",
       "stream": "stdout",
       "text": [
        "CHECK_CLOSE(2.788948987251e-02, integrator.nuclearAttractionIntegral(0,0,0,0,0,0), 1e-5);\n",
        "CHECK_CLOSE(6.971203468743e-02, integrator.nuclearAttractionIntegral(0,0,0,0,0,1), 1e-5);"
       ]
      },
      {
       "output_type": "stream",
       "stream": "stdout",
       "text": [
        "\n",
        "CHECK_CLOSE(2.024071525839e-01, integrator.nuclearAttractionIntegral(0,0,0,0,0,2), 1e-5);"
       ]
      },
      {
       "output_type": "stream",
       "stream": "stdout",
       "text": [
        "\n",
        "CHECK_CLOSE(8.727033700014e-03, integrator.nuclearAttractionIntegral(0,0,0,0,1,0), 1e-5);"
       ]
      },
      {
       "output_type": "stream",
       "stream": "stdout",
       "text": [
        "\n",
        "CHECK_CLOSE(2.134361291529e-02, integrator.nuclearAttractionIntegral(0,0,0,0,1,1), 1e-5);"
       ]
      },
      {
       "output_type": "stream",
       "stream": "stdout",
       "text": [
        "\n",
        "CHECK_CLOSE(2.921666495443e-02, integrator.nuclearAttractionIntegral(0,0,0,0,2,0), 1e-5);"
       ]
      },
      {
       "output_type": "stream",
       "stream": "stdout",
       "text": [
        "\n",
        "CHECK_CLOSE(3.185957751329e-02, integrator.nuclearAttractionIntegral(0,0,0,1,0,0), 1e-5);"
       ]
      },
      {
       "output_type": "stream",
       "stream": "stdout",
       "text": [
        "\n",
        "CHECK_CLOSE(8.105746642202e-02, integrator.nuclearAttractionIntegral(0,0,0,1,0,1), 1e-5);"
       ]
      },
      {
       "output_type": "stream",
       "stream": "stdout",
       "text": [
        "\n",
        "CHECK_CLOSE(9.596523510045e-03, integrator.nuclearAttractionIntegral(0,0,0,1,1,0), 1e-5);"
       ]
      },
      {
       "output_type": "stream",
       "stream": "stdout",
       "text": [
        "\n",
        "CHECK_CLOSE(6.388444040338e-02, integrator.nuclearAttractionIntegral(0,0,0,2,0,0), 1e-5);"
       ]
      },
      {
       "output_type": "stream",
       "stream": "stdout",
       "text": [
        "\n",
        "CHECK_CLOSE(-9.204700718547e-02, integrator.nuclearAttractionIntegral(0,0,1,0,0,0), 1e-5);"
       ]
      },
      {
       "output_type": "stream",
       "stream": "stdout",
       "text": [
        "\n",
        "CHECK_CLOSE(-2.019226499202e-01, integrator.nuclearAttractionIntegral(0,0,1,0,0,1), 1e-5);"
       ]
      },
      {
       "output_type": "stream",
       "stream": "stdout",
       "text": [
        "\n",
        "CHECK_CLOSE(-5.276399683274e-01, integrator.nuclearAttractionIntegral(0,0,1,0,0,2), 1e-5);"
       ]
      },
      {
       "output_type": "stream",
       "stream": "stdout",
       "text": [
        "\n",
        "CHECK_CLOSE(-2.927318225377e-02, integrator.nuclearAttractionIntegral(0,0,1,0,1,0), 1e-5);"
       ]
      },
      {
       "output_type": "stream",
       "stream": "stdout",
       "text": [
        "\n",
        "CHECK_CLOSE(-6.299787002318e-02, integrator.nuclearAttractionIntegral(0,0,1,0,1,1), 1e-5);"
       ]
      },
      {
       "output_type": "stream",
       "stream": "stdout",
       "text": [
        "\n",
        "CHECK_CLOSE(-9.718105595370e-02, integrator.nuclearAttractionIntegral(0,0,1,0,2,0), 1e-5);"
       ]
      },
      {
       "output_type": "stream",
       "stream": "stdout",
       "text": [
        "\n",
        "CHECK_CLOSE(-1.037280861539e-01, integrator.nuclearAttractionIntegral(0,0,1,1,0,0), 1e-5);"
       ]
      },
      {
       "output_type": "stream",
       "stream": "stdout",
       "text": [
        "\n",
        "CHECK_CLOSE(-2.312309453843e-01, integrator.nuclearAttractionIntegral(0,0,1,1,0,1), 1e-5);"
       ]
      },
      {
       "output_type": "stream",
       "stream": "stdout",
       "text": [
        "\n",
        "CHECK_CLOSE(-3.202910466576e-02, integrator.nuclearAttractionIntegral(0,0,1,1,1,0), 1e-5);"
       ]
      },
      {
       "output_type": "stream",
       "stream": "stdout",
       "text": [
        "\n",
        "CHECK_CLOSE(-2.073449397904e-01, integrator.nuclearAttractionIntegral(0,0,1,2,0,0), 1e-5);"
       ]
      },
      {
       "output_type": "stream",
       "stream": "stdout",
       "text": [
        "\n",
        "CHECK_CLOSE(3.319499900436e-01, integrator.nuclearAttractionIntegral(0,0,2,0,0,0), 1e-5);"
       ]
      },
      {
       "output_type": "stream",
       "stream": "stdout",
       "text": [
        "\n",
        "CHECK_CLOSE(6.435114042344e-01, integrator.nuclearAttractionIntegral(0,0,2,0,0,1), 1e-5);"
       ]
      },
      {
       "output_type": "stream",
       "stream": "stdout",
       "text": [
        "\n",
        "CHECK_CLOSE(1.536931448007e+00, integrator.nuclearAttractionIntegral(0,0,2,0,0,2), 1e-5);"
       ]
      },
      {
       "output_type": "stream",
       "stream": "stdout",
       "text": [
        "\n",
        "CHECK_CLOSE(1.067865861209e-01, integrator.nuclearAttractionIntegral(0,0,2,0,1,0), 1e-5);"
       ]
      },
      {
       "output_type": "stream",
       "stream": "stdout",
       "text": [
        "\n",
        "CHECK_CLOSE(2.033153544029e-01, integrator.nuclearAttractionIntegral(0,0,2,0,1,1), 1e-5);"
       ]
      },
      {
       "output_type": "stream",
       "stream": "stdout",
       "text": [
        "\n",
        "CHECK_CLOSE(3.524622701603e-01, integrator.nuclearAttractionIntegral(0,0,2,0,2,0), 1e-5);"
       ]
      },
      {
       "output_type": "stream",
       "stream": "stdout",
       "text": [
        "\n",
        "CHECK_CLOSE(3.703919381580e-01, integrator.nuclearAttractionIntegral(0,0,2,1,0,0), 1e-5);"
       ]
      },
      {
       "output_type": "stream",
       "stream": "stdout",
       "text": [
        "\n",
        "CHECK_CLOSE(7.292169308884e-01, integrator.nuclearAttractionIntegral(0,0,2,1,0,1), 1e-5);"
       ]
      },
      {
       "output_type": "stream",
       "stream": "stdout",
       "text": [
        "\n",
        "CHECK_CLOSE(1.162963233448e-01, integrator.nuclearAttractionIntegral(0,0,2,1,1,0), 1e-5);"
       ]
      },
      {
       "output_type": "stream",
       "stream": "stdout",
       "text": [
        "\n",
        "CHECK_CLOSE(7.390872806284e-01, integrator.nuclearAttractionIntegral(0,0,2,2,0,0), 1e-5);"
       ]
      },
      {
       "output_type": "stream",
       "stream": "stdout",
       "text": [
        "\n",
        "CHECK_CLOSE(-1.637350724302e-02, integrator.nuclearAttractionIntegral(0,1,0,0,0,0), 1e-5);"
       ]
      },
      {
       "output_type": "stream",
       "stream": "stdout",
       "text": [
        "\n",
        "CHECK_CLOSE(-4.139721853567e-02, integrator.nuclearAttractionIntegral(0,1,0,0,0,1), 1e-5);"
       ]
      },
      {
       "output_type": "stream",
       "stream": "stdout",
       "text": [
        "\n",
        "CHECK_CLOSE(-1.213713540367e-01, integrator.nuclearAttractionIntegral(0,1,0,0,0,2), 1e-5);"
       ]
      },
      {
       "output_type": "stream",
       "stream": "stdout",
       "text": [
        "\n",
        "CHECK_CLOSE(2.136233458775e-02, integrator.nuclearAttractionIntegral(0,1,0,0,1,0), 1e-5);"
       ]
      },
      {
       "output_type": "stream",
       "stream": "stdout",
       "text": [
        "\n",
        "CHECK_CLOSE(5.306634838230e-02, integrator.nuclearAttractionIntegral(0,1,0,0,1,1), 1e-5);"
       ]
      },
      {
       "output_type": "stream",
       "stream": "stdout",
       "text": [
        "\n",
        "CHECK_CLOSE(-1.697963144320e-04, integrator.nuclearAttractionIntegral(0,1,0,0,2,0), 1e-5);"
       ]
      },
      {
       "output_type": "stream",
       "stream": "stdout",
       "text": [
        "\n",
        "CHECK_CLOSE(-1.907709578263e-02, integrator.nuclearAttractionIntegral(0,1,0,1,0,0), 1e-5);"
       ]
      },
      {
       "output_type": "stream",
       "stream": "stdout",
       "text": [
        "\n",
        "CHECK_CLOSE(-4.932098923684e-02, integrator.nuclearAttractionIntegral(0,1,0,1,0,1), 1e-5);"
       ]
      },
      {
       "output_type": "stream",
       "stream": "stdout",
       "text": [
        "\n",
        "CHECK_CLOSE(2.414126847830e-02, integrator.nuclearAttractionIntegral(0,1,0,1,1,0), 1e-5);"
       ]
      },
      {
       "output_type": "stream",
       "stream": "stdout",
       "text": [
        "\n",
        "CHECK_CLOSE(-3.842342257899e-02, integrator.nuclearAttractionIntegral(0,1,0,2,0,0), 1e-5);"
       ]
      },
      {
       "output_type": "stream",
       "stream": "stdout",
       "text": [
        "\n",
        "CHECK_CLOSE(5.356912442721e-02, integrator.nuclearAttractionIntegral(0,1,1,0,0,0), 1e-5);"
       ]
      },
      {
       "output_type": "stream",
       "stream": "stdout",
       "text": [
        "\n",
        "CHECK_CLOSE(1.187325132374e-01, integrator.nuclearAttractionIntegral(0,1,1,0,0,1), 1e-5);"
       ]
      },
      {
       "output_type": "stream",
       "stream": "stdout",
       "text": [
        "\n",
        "CHECK_CLOSE(3.128036711345e-01, integrator.nuclearAttractionIntegral(0,1,1,0,0,2), 1e-5);"
       ]
      },
      {
       "output_type": "stream",
       "stream": "stdout",
       "text": [
        "\n",
        "CHECK_CLOSE(-7.083519267815e-02, integrator.nuclearAttractionIntegral(0,1,1,0,1,0), 1e-5);"
       ]
      },
      {
       "output_type": "stream",
       "stream": "stdout",
       "text": [
        "\n",
        "CHECK_CLOSE(-1.544897767601e-01, integrator.nuclearAttractionIntegral(0,1,1,0,1,1), 1e-5);"
       ]
      },
      {
       "output_type": "stream",
       "stream": "stdout",
       "text": [
        "\n",
        "CHECK_CLOSE(-3.894393296797e-04, integrator.nuclearAttractionIntegral(0,1,1,0,2,0), 1e-5);"
       ]
      },
      {
       "output_type": "stream",
       "stream": "stdout",
       "text": [
        "\n",
        "CHECK_CLOSE(6.132616876012e-02, integrator.nuclearAttractionIntegral(0,1,1,1,0,0), 1e-5);"
       ]
      },
      {
       "output_type": "stream",
       "stream": "stdout",
       "text": [
        "\n",
        "CHECK_CLOSE(1.386353605834e-01, integrator.nuclearAttractionIntegral(0,1,1,1,0,1), 1e-5);"
       ]
      },
      {
       "output_type": "stream",
       "stream": "stdout",
       "text": [
        "\n",
        "CHECK_CLOSE(-7.911527548440e-02, integrator.nuclearAttractionIntegral(0,1,1,1,1,0), 1e-5);"
       ]
      },
      {
       "output_type": "stream",
       "stream": "stdout",
       "text": [
        "\n",
        "CHECK_CLOSE(1.229240947242e-01, integrator.nuclearAttractionIntegral(0,1,1,2,0,0), 1e-5);"
       ]
      },
      {
       "output_type": "stream",
       "stream": "stdout",
       "text": [
        "\n",
        "CHECK_CLOSE(3.609849112824e-02, integrator.nuclearAttractionIntegral(0,2,0,0,0,0), 1e-5);"
       ]
      },
      {
       "output_type": "stream",
       "stream": "stdout",
       "text": [
        "\n",
        "CHECK_CLOSE(9.032384498820e-02, integrator.nuclearAttractionIntegral(0,2,0,0,0,1), 1e-5);"
       ]
      },
      {
       "output_type": "stream",
       "stream": "stdout",
       "text": [
        "\n",
        "CHECK_CLOSE(2.625292648498e-01, integrator.nuclearAttractionIntegral(0,2,0,0,0,2), 1e-5);"
       ]
      },
      {
       "output_type": "stream",
       "stream": "stdout",
       "text": [
        "\n",
        "CHECK_CLOSE(-1.939589748931e-02, integrator.nuclearAttractionIntegral(0,2,0,0,1,0), 1e-5);"
       ]
      },
      {
       "output_type": "stream",
       "stream": "stdout",
       "text": [
        "\n",
        "CHECK_CLOSE(-4.913397190183e-02, integrator.nuclearAttractionIntegral(0,2,0,0,1,1), 1e-5);"
       ]
      },
      {
       "output_type": "stream",
       "stream": "stdout",
       "text": [
        "\n",
        "CHECK_CLOSE(6.878262296370e-02, integrator.nuclearAttractionIntegral(0,2,0,0,2,0), 1e-5);"
       ]
      },
      {
       "output_type": "stream",
       "stream": "stdout",
       "text": [
        "\n",
        "CHECK_CLOSE(4.131065513841e-02, integrator.nuclearAttractionIntegral(0,2,0,1,0,0), 1e-5);"
       ]
      },
      {
       "output_type": "stream",
       "stream": "stdout",
       "text": [
        "\n",
        "CHECK_CLOSE(1.052929737663e-01, integrator.nuclearAttractionIntegral(0,2,0,1,0,1), 1e-5);"
       ]
      },
      {
       "output_type": "stream",
       "stream": "stdout",
       "text": [
        "\n",
        "CHECK_CLOSE(-2.267402937768e-02, integrator.nuclearAttractionIntegral(0,2,0,1,1,0), 1e-5);"
       ]
      },
      {
       "output_type": "stream",
       "stream": "stdout",
       "text": [
        "\n",
        "CHECK_CLOSE(8.289710831960e-02, integrator.nuclearAttractionIntegral(0,2,0,2,0,0), 1e-5);"
       ]
      },
      {
       "output_type": "stream",
       "stream": "stdout",
       "text": [
        "\n",
        "CHECK_CLOSE(-3.786414780578e-02, integrator.nuclearAttractionIntegral(1,0,0,0,0,0), 1e-5);"
       ]
      },
      {
       "output_type": "stream",
       "stream": "stdout",
       "text": [
        "\n",
        "CHECK_CLOSE(-9.322262110550e-02, integrator.nuclearAttractionIntegral(1,0,0,0,0,1), 1e-5);"
       ]
      },
      {
       "output_type": "stream",
       "stream": "stdout",
       "text": [
        "\n",
        "CHECK_CLOSE(-2.671155215998e-01, integrator.nuclearAttractionIntegral(1,0,0,0,0,2), 1e-5);"
       ]
      },
      {
       "output_type": "stream",
       "stream": "stdout",
       "text": [
        "\n",
        "CHECK_CLOSE(-1.222106053447e-02, integrator.nuclearAttractionIntegral(1,0,0,0,1,0), 1e-5);"
       ]
      },
      {
       "output_type": "stream",
       "stream": "stdout",
       "text": [
        "\n",
        "CHECK_CLOSE(-2.972830178046e-02, integrator.nuclearAttractionIntegral(1,0,0,0,1,1), 1e-5);"
       ]
      },
      {
       "output_type": "stream",
       "stream": "stdout",
       "text": [
        "\n",
        "CHECK_CLOSE(-4.026352276293e-02, integrator.nuclearAttractionIntegral(1,0,0,0,2,0), 1e-5);"
       ]
      },
      {
       "output_type": "stream",
       "stream": "stdout",
       "text": [
        "\n",
        "CHECK_CLOSE(-1.576450345257e-02, integrator.nuclearAttractionIntegral(1,0,0,1,0,0), 1e-5);"
       ]
      },
      {
       "output_type": "stream",
       "stream": "stdout",
       "text": [
        "\n",
        "CHECK_CLOSE(-3.945885129414e-02, integrator.nuclearAttractionIntegral(1,0,0,1,0,1), 1e-5);"
       ]
      },
      {
       "output_type": "stream",
       "stream": "stdout",
       "text": [
        "\n",
        "CHECK_CLOSE(-4.918734877201e-03, integrator.nuclearAttractionIntegral(1,0,0,1,1,0), 1e-5);"
       ]
      },
      {
       "output_type": "stream",
       "stream": "stdout",
       "text": [
        "\n",
        "CHECK_CLOSE(-2.459437143524e-02, integrator.nuclearAttractionIntegral(1,0,0,2,0,0), 1e-5);"
       ]
      },
      {
       "output_type": "stream",
       "stream": "stdout",
       "text": [
        "\n",
        "CHECK_CLOSE(1.263894353489e-01, integrator.nuclearAttractionIntegral(1,0,1,0,0,0), 1e-5);"
       ]
      },
      {
       "output_type": "stream",
       "stream": "stdout",
       "text": [
        "\n",
        "CHECK_CLOSE(2.735756798558e-01, integrator.nuclearAttractionIntegral(1,0,1,0,0,1), 1e-5);"
       ]
      },
      {
       "output_type": "stream",
       "stream": "stdout",
       "text": [
        "\n",
        "CHECK_CLOSE(7.071773603054e-01, integrator.nuclearAttractionIntegral(1,0,1,0,0,2), 1e-5);"
       ]
      },
      {
       "output_type": "stream",
       "stream": "stdout",
       "text": [
        "\n",
        "CHECK_CLOSE(4.115384967585e-02, integrator.nuclearAttractionIntegral(1,0,1,0,1,0), 1e-5);"
       ]
      },
      {
       "output_type": "stream",
       "stream": "stdout",
       "text": [
        "\n",
        "CHECK_CLOSE(8.802219023191e-02, integrator.nuclearAttractionIntegral(1,0,1,0,1,1), 1e-5);"
       ]
      },
      {
       "output_type": "stream",
       "stream": "stdout",
       "text": [
        "\n",
        "CHECK_CLOSE(1.350111738398e-01, integrator.nuclearAttractionIntegral(1,0,1,0,2,0), 1e-5);"
       ]
      },
      {
       "output_type": "stream",
       "stream": "stdout",
       "text": [
        "\n",
        "CHECK_CLOSE(5.197526800952e-02, integrator.nuclearAttractionIntegral(1,0,1,1,0,0), 1e-5);"
       ]
      },
      {
       "output_type": "stream",
       "stream": "stdout",
       "text": [
        "\n",
        "CHECK_CLOSE(1.145639876363e-01, integrator.nuclearAttractionIntegral(1,0,1,1,0,1), 1e-5);"
       ]
      },
      {
       "output_type": "stream",
       "stream": "stdout",
       "text": [
        "\n",
        "CHECK_CLOSE(1.638641395940e-02, integrator.nuclearAttractionIntegral(1,0,1,1,1,0), 1e-5);"
       ]
      },
      {
       "output_type": "stream",
       "stream": "stdout",
       "text": [
        "\n",
        "CHECK_CLOSE(8.278875254192e-02, integrator.nuclearAttractionIntegral(1,0,1,2,0,0), 1e-5);"
       ]
      },
      {
       "output_type": "stream",
       "stream": "stdout",
       "text": [
        "\n",
        "CHECK_CLOSE(2.185667243163e-02, integrator.nuclearAttractionIntegral(1,1,0,0,0,0), 1e-5);"
       ]
      },
      {
       "output_type": "stream",
       "stream": "stdout",
       "text": [
        "\n",
        "CHECK_CLOSE(5.417205698627e-02, integrator.nuclearAttractionIntegral(1,1,0,0,0,1), 1e-5);"
       ]
      },
      {
       "output_type": "stream",
       "stream": "stdout",
       "text": [
        "\n",
        "CHECK_CLOSE(1.560020091608e-01, integrator.nuclearAttractionIntegral(1,1,0,0,0,2), 1e-5);"
       ]
      },
      {
       "output_type": "stream",
       "stream": "stdout",
       "text": [
        "\n",
        "CHECK_CLOSE(-2.926456829930e-02, integrator.nuclearAttractionIntegral(1,1,0,0,1,0), 1e-5);"
       ]
      },
      {
       "output_type": "stream",
       "stream": "stdout",
       "text": [
        "\n",
        "CHECK_CLOSE(-7.176178735649e-02, integrator.nuclearAttractionIntegral(1,1,0,0,1,1), 1e-5);"
       ]
      },
      {
       "output_type": "stream",
       "stream": "stdout",
       "text": [
        "\n",
        "CHECK_CLOSE(-5.223967979758e-04, integrator.nuclearAttractionIntegral(1,1,0,0,2,0), 1e-5);"
       ]
      },
      {
       "output_type": "stream",
       "stream": "stdout",
       "text": [
        "\n",
        "CHECK_CLOSE(9.269318129877e-03, integrator.nuclearAttractionIntegral(1,1,0,1,0,0), 1e-5);"
       ]
      },
      {
       "output_type": "stream",
       "stream": "stdout",
       "text": [
        "\n",
        "CHECK_CLOSE(2.337071697343e-02, integrator.nuclearAttractionIntegral(1,1,0,1,0,1), 1e-5);"
       ]
      },
      {
       "output_type": "stream",
       "stream": "stdout",
       "text": [
        "\n",
        "CHECK_CLOSE(-1.203714316117e-02, integrator.nuclearAttractionIntegral(1,1,0,1,1,0), 1e-5);"
       ]
      },
      {
       "output_type": "stream",
       "stream": "stdout",
       "text": [
        "\n",
        "CHECK_CLOSE(1.401501778682e-02, integrator.nuclearAttractionIntegral(1,1,0,2,0,0), 1e-5);"
       ]
      },
      {
       "output_type": "stream",
       "stream": "stdout",
       "text": [
        "\n",
        "CHECK_CLOSE(7.889586550718e-02, integrator.nuclearAttractionIntegral(2,0,0,0,0,0), 1e-5);"
       ]
      },
      {
       "output_type": "stream",
       "stream": "stdout",
       "text": [
        "\n",
        "CHECK_CLOSE(1.935977010010e-01, integrator.nuclearAttractionIntegral(2,0,0,0,0,1), 1e-5);"
       ]
      },
      {
       "output_type": "stream",
       "stream": "stdout",
       "text": [
        "\n",
        "CHECK_CLOSE(5.534914541236e-01, integrator.nuclearAttractionIntegral(2,0,0,0,0,2), 1e-5);"
       ]
      },
      {
       "output_type": "stream",
       "stream": "stdout",
       "text": [
        "\n",
        "CHECK_CLOSE(2.563391673303e-02, integrator.nuclearAttractionIntegral(2,0,0,0,1,0), 1e-5);"
       ]
      },
      {
       "output_type": "stream",
       "stream": "stdout",
       "text": [
        "\n",
        "CHECK_CLOSE(6.217850538435e-02, integrator.nuclearAttractionIntegral(2,0,0,0,1,1), 1e-5);"
       ]
      },
      {
       "output_type": "stream",
       "stream": "stdout",
       "text": [
        "\n",
        "CHECK_CLOSE(8.419480232293e-02, integrator.nuclearAttractionIntegral(2,0,0,0,2,0), 1e-5);"
       ]
      },
      {
       "output_type": "stream",
       "stream": "stdout",
       "text": [
        "\n",
        "CHECK_CLOSE(1.481688684288e-02, integrator.nuclearAttractionIntegral(2,0,0,1,0,0), 1e-5);"
       ]
      },
      {
       "output_type": "stream",
       "stream": "stdout",
       "text": [
        "\n",
        "CHECK_CLOSE(3.878852644576e-02, integrator.nuclearAttractionIntegral(2,0,0,1,0,1), 1e-5);"
       ]
      },
      {
       "output_type": "stream",
       "stream": "stdout",
       "text": [
        "\n",
        "CHECK_CLOSE(4.176920693786e-03, integrator.nuclearAttractionIntegral(2,0,0,1,1,0), 1e-5);"
       ]
      },
      {
       "output_type": "stream",
       "stream": "stdout",
       "text": [
        "\n",
        "CHECK_CLOSE(6.422210627967e-02, integrator.nuclearAttractionIntegral(2,0,0,2,0,0), 1e-5);"
       ]
      },
      {
       "output_type": "stream",
       "stream": "stdout",
       "text": [
        "\n"
       ]
      }
     ],
     "prompt_number": 11
    },
    {
     "cell_type": "code",
     "collapsed": false,
     "input": [
      "print dt/3600"
     ],
     "language": "python",
     "metadata": {},
     "outputs": [
      {
       "output_type": "stream",
       "stream": "stdout",
       "text": [
        "4.96708212607\n"
       ]
      }
     ],
     "prompt_number": 14
    },
    {
     "cell_type": "markdown",
     "metadata": {},
     "source": [
      "###Derivative of coulomb 1:"
     ]
    },
    {
     "cell_type": "code",
     "collapsed": false,
     "input": [
      "Ax, Ay, Az = symbols('A_x, A_y, A_z')\n",
      "x, y, z = symbols('x, y, z')\n",
      "A = array([Ax,Ay,Az])\n",
      "\n",
      "\n",
      "\n",
      "Axn = 1.2; Ayn = 2.3; Azn = 3.4\n",
      "B = array((-1.3,1.4,-2.4))\n",
      "a = 0.2\n",
      "b = 0.3\n",
      "Ga = gaussian(A,a)\n",
      "Gb = gaussian(B,b)\n",
      "C = array((2.3,0.9,3.2))\n",
      "\n",
      "import time\n",
      "\n",
      "t0 = time.time()\n",
      "results = []\n",
      "error = []\n",
      "\n",
      "#combo = zeros((1,6))\n",
      "#combo[0,:] = array([1,0,0,0,0,0])\n",
      "\n",
      "\n",
      "for i in range(0,combo.shape[0]):\n",
      "    Ga.i, Ga.j, Ga.k = combo[i,:3]\n",
      "    Gb.i, Gb.j, Gb.k = combo[i,3:6]\n",
      "    \n",
      "    Ga = Ga(x,y,z)\n",
      "    Gb = Gb(x,y,z)\n",
      "    S = Ga*Gb\n",
      "\n",
      "    dSAx = diff(S,Ax)\n",
      "    dSAy = diff(S,Ay)\n",
      "    dSAz = diff(S,Az)\n",
      "\n",
      "    dSAx =dSAx.subs(Ax,  Axn).subs(Ay,  Ayn).subs(Az,  Azn)\n",
      "    dSAy =dSAy.subs(Ay,  Ayn).subs(Ax,  Axn).subs(Az,  Azn)\n",
      "    dSAz =dSAz.subs(Az,  Azn).subs(Ay,  Ayn).subs(Ax,  Axn)\n",
      "    \n",
      "\n",
      "    \n",
      "    I = tplquad(lambda x,y,z: \n",
      "                Ga(x,y,z)*Gb(x,y,z)/sqrt((x-C[0])**2 + (y-C[1])**2 + (z-C[2])**2),\n",
      "                upL, lowL, lambda y: upL, lambda y: lowL, lambda x,y: upL, lambda x,y: lowL)\n",
      "    \n",
      "    \n",
      "    results.append(\"CHECK_CLOSE(\" + str(\"%.12e\" %I[0]) + \", integrator.nuclearAttractionIntegral(\" \\\n",
      "          + str(Ga.i) + \",\" + str(Ga.j) + \",\" + str(Ga.k) + \",\" \\\n",
      "          + str(Gb.i) + \",\" + str(Gb.j) + \",\" + str(Gb.k) + \")\" \\\n",
      "            + \", 1e-5);\")\n",
      "    \n",
      "    error.append(str(\"%.12e\" %I[0]) + \",  \" + str(\"%.12e\" %I[1]) + \"   \" + str(combo[i,:]))\n",
      "\n",
      "    print results[-1]\n",
      "\n",
      "dt = time.time()-t0\n",
      "#print dt/60.0\n",
      "\n"
     ],
     "language": "python",
     "metadata": {},
     "outputs": [
      {
       "ename": "error",
       "evalue": "Supplied function does not return a valid float.",
       "output_type": "pyerr",
       "traceback": [
        "\u001b[0;31m---------------------------------------------------------------------------\u001b[0m\n\u001b[0;31merror\u001b[0m                                     Traceback (most recent call last)",
        "\u001b[0;32m<ipython-input-14-18784985b137>\u001b[0m in \u001b[0;36m<module>\u001b[0;34m()\u001b[0m\n\u001b[1;32m     43\u001b[0m     I = tplquad(lambda x,y,z: \n\u001b[1;32m     44\u001b[0m                 \u001b[0mGa\u001b[0m\u001b[0;34m(\u001b[0m\u001b[0mx\u001b[0m\u001b[0;34m,\u001b[0m\u001b[0my\u001b[0m\u001b[0;34m,\u001b[0m\u001b[0mz\u001b[0m\u001b[0;34m)\u001b[0m\u001b[0;34m*\u001b[0m\u001b[0mGb\u001b[0m\u001b[0;34m(\u001b[0m\u001b[0mx\u001b[0m\u001b[0;34m,\u001b[0m\u001b[0my\u001b[0m\u001b[0;34m,\u001b[0m\u001b[0mz\u001b[0m\u001b[0;34m)\u001b[0m\u001b[0;34m/\u001b[0m\u001b[0msqrt\u001b[0m\u001b[0;34m(\u001b[0m\u001b[0;34m(\u001b[0m\u001b[0mx\u001b[0m\u001b[0;34m-\u001b[0m\u001b[0mC\u001b[0m\u001b[0;34m[\u001b[0m\u001b[0;36m0\u001b[0m\u001b[0;34m]\u001b[0m\u001b[0;34m)\u001b[0m\u001b[0;34m**\u001b[0m\u001b[0;36m2\u001b[0m \u001b[0;34m+\u001b[0m \u001b[0;34m(\u001b[0m\u001b[0my\u001b[0m\u001b[0;34m-\u001b[0m\u001b[0mC\u001b[0m\u001b[0;34m[\u001b[0m\u001b[0;36m1\u001b[0m\u001b[0;34m]\u001b[0m\u001b[0;34m)\u001b[0m\u001b[0;34m**\u001b[0m\u001b[0;36m2\u001b[0m \u001b[0;34m+\u001b[0m \u001b[0;34m(\u001b[0m\u001b[0mz\u001b[0m\u001b[0;34m-\u001b[0m\u001b[0mC\u001b[0m\u001b[0;34m[\u001b[0m\u001b[0;36m2\u001b[0m\u001b[0;34m]\u001b[0m\u001b[0;34m)\u001b[0m\u001b[0;34m**\u001b[0m\u001b[0;36m2\u001b[0m\u001b[0;34m)\u001b[0m\u001b[0;34m,\u001b[0m\u001b[0;34m\u001b[0m\u001b[0m\n\u001b[0;32m---> 45\u001b[0;31m                 upL, lowL, lambda y: upL, lambda y: lowL, lambda x,y: upL, lambda x,y: lowL)\n\u001b[0m\u001b[1;32m     46\u001b[0m \u001b[0;34m\u001b[0m\u001b[0m\n\u001b[1;32m     47\u001b[0m \u001b[0;34m\u001b[0m\u001b[0m\n",
        "\u001b[0;32m/usr/lib/python2.7/dist-packages/scipy/integrate/quadpack.pyc\u001b[0m in \u001b[0;36mtplquad\u001b[0;34m(func, a, b, gfun, hfun, qfun, rfun, args, epsabs, epsrel)\u001b[0m\n\u001b[1;32m    485\u001b[0m \u001b[0;34m\u001b[0m\u001b[0m\n\u001b[1;32m    486\u001b[0m     \"\"\"\n\u001b[0;32m--> 487\u001b[0;31m     \u001b[0;32mreturn\u001b[0m \u001b[0mdblquad\u001b[0m\u001b[0;34m(\u001b[0m\u001b[0m_infunc2\u001b[0m\u001b[0;34m,\u001b[0m\u001b[0ma\u001b[0m\u001b[0;34m,\u001b[0m\u001b[0mb\u001b[0m\u001b[0;34m,\u001b[0m\u001b[0mgfun\u001b[0m\u001b[0;34m,\u001b[0m\u001b[0mhfun\u001b[0m\u001b[0;34m,\u001b[0m\u001b[0;34m(\u001b[0m\u001b[0mfunc\u001b[0m\u001b[0;34m,\u001b[0m\u001b[0mqfun\u001b[0m\u001b[0;34m,\u001b[0m\u001b[0mrfun\u001b[0m\u001b[0;34m,\u001b[0m\u001b[0margs\u001b[0m\u001b[0;34m)\u001b[0m\u001b[0;34m,\u001b[0m\u001b[0mepsabs\u001b[0m\u001b[0;34m=\u001b[0m\u001b[0mepsabs\u001b[0m\u001b[0;34m,\u001b[0m\u001b[0mepsrel\u001b[0m\u001b[0;34m=\u001b[0m\u001b[0mepsrel\u001b[0m\u001b[0;34m)\u001b[0m\u001b[0;34m\u001b[0m\u001b[0m\n\u001b[0m",
        "\u001b[0;32m/usr/lib/python2.7/dist-packages/scipy/integrate/quadpack.pyc\u001b[0m in \u001b[0;36mdblquad\u001b[0;34m(func, a, b, gfun, hfun, args, epsabs, epsrel)\u001b[0m\n\u001b[1;32m    423\u001b[0m \u001b[0;34m\u001b[0m\u001b[0m\n\u001b[1;32m    424\u001b[0m     \"\"\"\n\u001b[0;32m--> 425\u001b[0;31m     \u001b[0;32mreturn\u001b[0m \u001b[0mquad\u001b[0m\u001b[0;34m(\u001b[0m\u001b[0m_infunc\u001b[0m\u001b[0;34m,\u001b[0m\u001b[0ma\u001b[0m\u001b[0;34m,\u001b[0m\u001b[0mb\u001b[0m\u001b[0;34m,\u001b[0m\u001b[0;34m(\u001b[0m\u001b[0mfunc\u001b[0m\u001b[0;34m,\u001b[0m\u001b[0mgfun\u001b[0m\u001b[0;34m,\u001b[0m\u001b[0mhfun\u001b[0m\u001b[0;34m,\u001b[0m\u001b[0margs\u001b[0m\u001b[0;34m)\u001b[0m\u001b[0;34m,\u001b[0m\u001b[0mepsabs\u001b[0m\u001b[0;34m=\u001b[0m\u001b[0mepsabs\u001b[0m\u001b[0;34m,\u001b[0m\u001b[0mepsrel\u001b[0m\u001b[0;34m=\u001b[0m\u001b[0mepsrel\u001b[0m\u001b[0;34m)\u001b[0m\u001b[0;34m\u001b[0m\u001b[0m\n\u001b[0m\u001b[1;32m    426\u001b[0m \u001b[0;34m\u001b[0m\u001b[0m\n\u001b[1;32m    427\u001b[0m \u001b[0;32mdef\u001b[0m \u001b[0m_infunc2\u001b[0m\u001b[0;34m(\u001b[0m\u001b[0my\u001b[0m\u001b[0;34m,\u001b[0m\u001b[0mx\u001b[0m\u001b[0;34m,\u001b[0m\u001b[0mfunc\u001b[0m\u001b[0;34m,\u001b[0m\u001b[0mqfun\u001b[0m\u001b[0;34m,\u001b[0m\u001b[0mrfun\u001b[0m\u001b[0;34m,\u001b[0m\u001b[0mmore_args\u001b[0m\u001b[0;34m)\u001b[0m\u001b[0;34m:\u001b[0m\u001b[0;34m\u001b[0m\u001b[0m\n",
        "\u001b[0;32m/usr/lib/python2.7/dist-packages/scipy/integrate/quadpack.pyc\u001b[0m in \u001b[0;36mquad\u001b[0;34m(func, a, b, args, full_output, epsabs, epsrel, limit, points, weight, wvar, wopts, maxp1, limlst)\u001b[0m\n\u001b[1;32m    245\u001b[0m     \u001b[0;32mif\u001b[0m \u001b[0mtype\u001b[0m\u001b[0;34m(\u001b[0m\u001b[0margs\u001b[0m\u001b[0;34m)\u001b[0m \u001b[0;34m!=\u001b[0m \u001b[0mtype\u001b[0m\u001b[0;34m(\u001b[0m\u001b[0;34m(\u001b[0m\u001b[0;34m)\u001b[0m\u001b[0;34m)\u001b[0m\u001b[0;34m:\u001b[0m \u001b[0margs\u001b[0m \u001b[0;34m=\u001b[0m \u001b[0;34m(\u001b[0m\u001b[0margs\u001b[0m\u001b[0;34m,\u001b[0m\u001b[0;34m)\u001b[0m\u001b[0;34m\u001b[0m\u001b[0m\n\u001b[1;32m    246\u001b[0m     \u001b[0;32mif\u001b[0m \u001b[0;34m(\u001b[0m\u001b[0mweight\u001b[0m \u001b[0;32mis\u001b[0m \u001b[0mNone\u001b[0m\u001b[0;34m)\u001b[0m\u001b[0;34m:\u001b[0m\u001b[0;34m\u001b[0m\u001b[0m\n\u001b[0;32m--> 247\u001b[0;31m         \u001b[0mretval\u001b[0m \u001b[0;34m=\u001b[0m \u001b[0m_quad\u001b[0m\u001b[0;34m(\u001b[0m\u001b[0mfunc\u001b[0m\u001b[0;34m,\u001b[0m\u001b[0ma\u001b[0m\u001b[0;34m,\u001b[0m\u001b[0mb\u001b[0m\u001b[0;34m,\u001b[0m\u001b[0margs\u001b[0m\u001b[0;34m,\u001b[0m\u001b[0mfull_output\u001b[0m\u001b[0;34m,\u001b[0m\u001b[0mepsabs\u001b[0m\u001b[0;34m,\u001b[0m\u001b[0mepsrel\u001b[0m\u001b[0;34m,\u001b[0m\u001b[0mlimit\u001b[0m\u001b[0;34m,\u001b[0m\u001b[0mpoints\u001b[0m\u001b[0;34m)\u001b[0m\u001b[0;34m\u001b[0m\u001b[0m\n\u001b[0m\u001b[1;32m    248\u001b[0m     \u001b[0;32melse\u001b[0m\u001b[0;34m:\u001b[0m\u001b[0;34m\u001b[0m\u001b[0m\n\u001b[1;32m    249\u001b[0m         \u001b[0mretval\u001b[0m \u001b[0;34m=\u001b[0m \u001b[0m_quad_weight\u001b[0m\u001b[0;34m(\u001b[0m\u001b[0mfunc\u001b[0m\u001b[0;34m,\u001b[0m\u001b[0ma\u001b[0m\u001b[0;34m,\u001b[0m\u001b[0mb\u001b[0m\u001b[0;34m,\u001b[0m\u001b[0margs\u001b[0m\u001b[0;34m,\u001b[0m\u001b[0mfull_output\u001b[0m\u001b[0;34m,\u001b[0m\u001b[0mepsabs\u001b[0m\u001b[0;34m,\u001b[0m\u001b[0mepsrel\u001b[0m\u001b[0;34m,\u001b[0m\u001b[0mlimlst\u001b[0m\u001b[0;34m,\u001b[0m\u001b[0mlimit\u001b[0m\u001b[0;34m,\u001b[0m\u001b[0mmaxp1\u001b[0m\u001b[0;34m,\u001b[0m\u001b[0mweight\u001b[0m\u001b[0;34m,\u001b[0m\u001b[0mwvar\u001b[0m\u001b[0;34m,\u001b[0m\u001b[0mwopts\u001b[0m\u001b[0;34m)\u001b[0m\u001b[0;34m\u001b[0m\u001b[0m\n",
        "\u001b[0;32m/usr/lib/python2.7/dist-packages/scipy/integrate/quadpack.pyc\u001b[0m in \u001b[0;36m_quad\u001b[0;34m(func, a, b, args, full_output, epsabs, epsrel, limit, points)\u001b[0m\n\u001b[1;32m    310\u001b[0m     \u001b[0;32mif\u001b[0m \u001b[0mpoints\u001b[0m \u001b[0;32mis\u001b[0m \u001b[0mNone\u001b[0m\u001b[0;34m:\u001b[0m\u001b[0;34m\u001b[0m\u001b[0m\n\u001b[1;32m    311\u001b[0m         \u001b[0;32mif\u001b[0m \u001b[0minfbounds\u001b[0m \u001b[0;34m==\u001b[0m \u001b[0;36m0\u001b[0m\u001b[0;34m:\u001b[0m\u001b[0;34m\u001b[0m\u001b[0m\n\u001b[0;32m--> 312\u001b[0;31m             \u001b[0;32mreturn\u001b[0m \u001b[0m_quadpack\u001b[0m\u001b[0;34m.\u001b[0m\u001b[0m_qagse\u001b[0m\u001b[0;34m(\u001b[0m\u001b[0mfunc\u001b[0m\u001b[0;34m,\u001b[0m\u001b[0ma\u001b[0m\u001b[0;34m,\u001b[0m\u001b[0mb\u001b[0m\u001b[0;34m,\u001b[0m\u001b[0margs\u001b[0m\u001b[0;34m,\u001b[0m\u001b[0mfull_output\u001b[0m\u001b[0;34m,\u001b[0m\u001b[0mepsabs\u001b[0m\u001b[0;34m,\u001b[0m\u001b[0mepsrel\u001b[0m\u001b[0;34m,\u001b[0m\u001b[0mlimit\u001b[0m\u001b[0;34m)\u001b[0m\u001b[0;34m\u001b[0m\u001b[0m\n\u001b[0m\u001b[1;32m    313\u001b[0m         \u001b[0;32melse\u001b[0m\u001b[0;34m:\u001b[0m\u001b[0;34m\u001b[0m\u001b[0m\n\u001b[1;32m    314\u001b[0m             \u001b[0;32mreturn\u001b[0m \u001b[0m_quadpack\u001b[0m\u001b[0;34m.\u001b[0m\u001b[0m_qagie\u001b[0m\u001b[0;34m(\u001b[0m\u001b[0mfunc\u001b[0m\u001b[0;34m,\u001b[0m\u001b[0mbound\u001b[0m\u001b[0;34m,\u001b[0m\u001b[0minfbounds\u001b[0m\u001b[0;34m,\u001b[0m\u001b[0margs\u001b[0m\u001b[0;34m,\u001b[0m\u001b[0mfull_output\u001b[0m\u001b[0;34m,\u001b[0m\u001b[0mepsabs\u001b[0m\u001b[0;34m,\u001b[0m\u001b[0mepsrel\u001b[0m\u001b[0;34m,\u001b[0m\u001b[0mlimit\u001b[0m\u001b[0;34m)\u001b[0m\u001b[0;34m\u001b[0m\u001b[0m\n",
        "\u001b[0;32m/usr/lib/python2.7/dist-packages/scipy/integrate/quadpack.pyc\u001b[0m in \u001b[0;36m_infunc\u001b[0;34m(x, func, gfun, hfun, more_args)\u001b[0m\n\u001b[1;32m    373\u001b[0m     \u001b[0mb\u001b[0m \u001b[0;34m=\u001b[0m \u001b[0mhfun\u001b[0m\u001b[0;34m(\u001b[0m\u001b[0mx\u001b[0m\u001b[0;34m)\u001b[0m\u001b[0;34m\u001b[0m\u001b[0m\n\u001b[1;32m    374\u001b[0m     \u001b[0mmyargs\u001b[0m \u001b[0;34m=\u001b[0m \u001b[0;34m(\u001b[0m\u001b[0mx\u001b[0m\u001b[0;34m,\u001b[0m\u001b[0;34m)\u001b[0m \u001b[0;34m+\u001b[0m \u001b[0mmore_args\u001b[0m\u001b[0;34m\u001b[0m\u001b[0m\n\u001b[0;32m--> 375\u001b[0;31m     \u001b[0;32mreturn\u001b[0m \u001b[0mquad\u001b[0m\u001b[0;34m(\u001b[0m\u001b[0mfunc\u001b[0m\u001b[0;34m,\u001b[0m\u001b[0ma\u001b[0m\u001b[0;34m,\u001b[0m\u001b[0mb\u001b[0m\u001b[0;34m,\u001b[0m\u001b[0margs\u001b[0m\u001b[0;34m=\u001b[0m\u001b[0mmyargs\u001b[0m\u001b[0;34m)\u001b[0m\u001b[0;34m[\u001b[0m\u001b[0;36m0\u001b[0m\u001b[0;34m]\u001b[0m\u001b[0;34m\u001b[0m\u001b[0m\n\u001b[0m\u001b[1;32m    376\u001b[0m \u001b[0;34m\u001b[0m\u001b[0m\n\u001b[1;32m    377\u001b[0m \u001b[0;32mdef\u001b[0m \u001b[0mdblquad\u001b[0m\u001b[0;34m(\u001b[0m\u001b[0mfunc\u001b[0m\u001b[0;34m,\u001b[0m \u001b[0ma\u001b[0m\u001b[0;34m,\u001b[0m \u001b[0mb\u001b[0m\u001b[0;34m,\u001b[0m \u001b[0mgfun\u001b[0m\u001b[0;34m,\u001b[0m \u001b[0mhfun\u001b[0m\u001b[0;34m,\u001b[0m \u001b[0margs\u001b[0m\u001b[0;34m=\u001b[0m\u001b[0;34m(\u001b[0m\u001b[0;34m)\u001b[0m\u001b[0;34m,\u001b[0m \u001b[0mepsabs\u001b[0m\u001b[0;34m=\u001b[0m\u001b[0;36m1.49e-8\u001b[0m\u001b[0;34m,\u001b[0m \u001b[0mepsrel\u001b[0m\u001b[0;34m=\u001b[0m\u001b[0;36m1.49e-8\u001b[0m\u001b[0;34m)\u001b[0m\u001b[0;34m:\u001b[0m\u001b[0;34m\u001b[0m\u001b[0m\n",
        "\u001b[0;32m/usr/lib/python2.7/dist-packages/scipy/integrate/quadpack.pyc\u001b[0m in \u001b[0;36mquad\u001b[0;34m(func, a, b, args, full_output, epsabs, epsrel, limit, points, weight, wvar, wopts, maxp1, limlst)\u001b[0m\n\u001b[1;32m    245\u001b[0m     \u001b[0;32mif\u001b[0m \u001b[0mtype\u001b[0m\u001b[0;34m(\u001b[0m\u001b[0margs\u001b[0m\u001b[0;34m)\u001b[0m \u001b[0;34m!=\u001b[0m \u001b[0mtype\u001b[0m\u001b[0;34m(\u001b[0m\u001b[0;34m(\u001b[0m\u001b[0;34m)\u001b[0m\u001b[0;34m)\u001b[0m\u001b[0;34m:\u001b[0m \u001b[0margs\u001b[0m \u001b[0;34m=\u001b[0m \u001b[0;34m(\u001b[0m\u001b[0margs\u001b[0m\u001b[0;34m,\u001b[0m\u001b[0;34m)\u001b[0m\u001b[0;34m\u001b[0m\u001b[0m\n\u001b[1;32m    246\u001b[0m     \u001b[0;32mif\u001b[0m \u001b[0;34m(\u001b[0m\u001b[0mweight\u001b[0m \u001b[0;32mis\u001b[0m \u001b[0mNone\u001b[0m\u001b[0;34m)\u001b[0m\u001b[0;34m:\u001b[0m\u001b[0;34m\u001b[0m\u001b[0m\n\u001b[0;32m--> 247\u001b[0;31m         \u001b[0mretval\u001b[0m \u001b[0;34m=\u001b[0m \u001b[0m_quad\u001b[0m\u001b[0;34m(\u001b[0m\u001b[0mfunc\u001b[0m\u001b[0;34m,\u001b[0m\u001b[0ma\u001b[0m\u001b[0;34m,\u001b[0m\u001b[0mb\u001b[0m\u001b[0;34m,\u001b[0m\u001b[0margs\u001b[0m\u001b[0;34m,\u001b[0m\u001b[0mfull_output\u001b[0m\u001b[0;34m,\u001b[0m\u001b[0mepsabs\u001b[0m\u001b[0;34m,\u001b[0m\u001b[0mepsrel\u001b[0m\u001b[0;34m,\u001b[0m\u001b[0mlimit\u001b[0m\u001b[0;34m,\u001b[0m\u001b[0mpoints\u001b[0m\u001b[0;34m)\u001b[0m\u001b[0;34m\u001b[0m\u001b[0m\n\u001b[0m\u001b[1;32m    248\u001b[0m     \u001b[0;32melse\u001b[0m\u001b[0;34m:\u001b[0m\u001b[0;34m\u001b[0m\u001b[0m\n\u001b[1;32m    249\u001b[0m         \u001b[0mretval\u001b[0m \u001b[0;34m=\u001b[0m \u001b[0m_quad_weight\u001b[0m\u001b[0;34m(\u001b[0m\u001b[0mfunc\u001b[0m\u001b[0;34m,\u001b[0m\u001b[0ma\u001b[0m\u001b[0;34m,\u001b[0m\u001b[0mb\u001b[0m\u001b[0;34m,\u001b[0m\u001b[0margs\u001b[0m\u001b[0;34m,\u001b[0m\u001b[0mfull_output\u001b[0m\u001b[0;34m,\u001b[0m\u001b[0mepsabs\u001b[0m\u001b[0;34m,\u001b[0m\u001b[0mepsrel\u001b[0m\u001b[0;34m,\u001b[0m\u001b[0mlimlst\u001b[0m\u001b[0;34m,\u001b[0m\u001b[0mlimit\u001b[0m\u001b[0;34m,\u001b[0m\u001b[0mmaxp1\u001b[0m\u001b[0;34m,\u001b[0m\u001b[0mweight\u001b[0m\u001b[0;34m,\u001b[0m\u001b[0mwvar\u001b[0m\u001b[0;34m,\u001b[0m\u001b[0mwopts\u001b[0m\u001b[0;34m)\u001b[0m\u001b[0;34m\u001b[0m\u001b[0m\n",
        "\u001b[0;32m/usr/lib/python2.7/dist-packages/scipy/integrate/quadpack.pyc\u001b[0m in \u001b[0;36m_quad\u001b[0;34m(func, a, b, args, full_output, epsabs, epsrel, limit, points)\u001b[0m\n\u001b[1;32m    310\u001b[0m     \u001b[0;32mif\u001b[0m \u001b[0mpoints\u001b[0m \u001b[0;32mis\u001b[0m \u001b[0mNone\u001b[0m\u001b[0;34m:\u001b[0m\u001b[0;34m\u001b[0m\u001b[0m\n\u001b[1;32m    311\u001b[0m         \u001b[0;32mif\u001b[0m \u001b[0minfbounds\u001b[0m \u001b[0;34m==\u001b[0m \u001b[0;36m0\u001b[0m\u001b[0;34m:\u001b[0m\u001b[0;34m\u001b[0m\u001b[0m\n\u001b[0;32m--> 312\u001b[0;31m             \u001b[0;32mreturn\u001b[0m \u001b[0m_quadpack\u001b[0m\u001b[0;34m.\u001b[0m\u001b[0m_qagse\u001b[0m\u001b[0;34m(\u001b[0m\u001b[0mfunc\u001b[0m\u001b[0;34m,\u001b[0m\u001b[0ma\u001b[0m\u001b[0;34m,\u001b[0m\u001b[0mb\u001b[0m\u001b[0;34m,\u001b[0m\u001b[0margs\u001b[0m\u001b[0;34m,\u001b[0m\u001b[0mfull_output\u001b[0m\u001b[0;34m,\u001b[0m\u001b[0mepsabs\u001b[0m\u001b[0;34m,\u001b[0m\u001b[0mepsrel\u001b[0m\u001b[0;34m,\u001b[0m\u001b[0mlimit\u001b[0m\u001b[0;34m)\u001b[0m\u001b[0;34m\u001b[0m\u001b[0m\n\u001b[0m\u001b[1;32m    313\u001b[0m         \u001b[0;32melse\u001b[0m\u001b[0;34m:\u001b[0m\u001b[0;34m\u001b[0m\u001b[0m\n\u001b[1;32m    314\u001b[0m             \u001b[0;32mreturn\u001b[0m \u001b[0m_quadpack\u001b[0m\u001b[0;34m.\u001b[0m\u001b[0m_qagie\u001b[0m\u001b[0;34m(\u001b[0m\u001b[0mfunc\u001b[0m\u001b[0;34m,\u001b[0m\u001b[0mbound\u001b[0m\u001b[0;34m,\u001b[0m\u001b[0minfbounds\u001b[0m\u001b[0;34m,\u001b[0m\u001b[0margs\u001b[0m\u001b[0;34m,\u001b[0m\u001b[0mfull_output\u001b[0m\u001b[0;34m,\u001b[0m\u001b[0mepsabs\u001b[0m\u001b[0;34m,\u001b[0m\u001b[0mepsrel\u001b[0m\u001b[0;34m,\u001b[0m\u001b[0mlimit\u001b[0m\u001b[0;34m)\u001b[0m\u001b[0;34m\u001b[0m\u001b[0m\n",
        "\u001b[0;32m/usr/lib/python2.7/dist-packages/scipy/integrate/quadpack.pyc\u001b[0m in \u001b[0;36m_infunc2\u001b[0;34m(y, x, func, qfun, rfun, more_args)\u001b[0m\n\u001b[1;32m    429\u001b[0m     \u001b[0mb2\u001b[0m \u001b[0;34m=\u001b[0m \u001b[0mrfun\u001b[0m\u001b[0;34m(\u001b[0m\u001b[0mx\u001b[0m\u001b[0;34m,\u001b[0m\u001b[0my\u001b[0m\u001b[0;34m)\u001b[0m\u001b[0;34m\u001b[0m\u001b[0m\n\u001b[1;32m    430\u001b[0m     \u001b[0mmyargs\u001b[0m \u001b[0;34m=\u001b[0m \u001b[0;34m(\u001b[0m\u001b[0my\u001b[0m\u001b[0;34m,\u001b[0m\u001b[0mx\u001b[0m\u001b[0;34m)\u001b[0m \u001b[0;34m+\u001b[0m \u001b[0mmore_args\u001b[0m\u001b[0;34m\u001b[0m\u001b[0m\n\u001b[0;32m--> 431\u001b[0;31m     \u001b[0;32mreturn\u001b[0m \u001b[0mquad\u001b[0m\u001b[0;34m(\u001b[0m\u001b[0mfunc\u001b[0m\u001b[0;34m,\u001b[0m\u001b[0ma2\u001b[0m\u001b[0;34m,\u001b[0m\u001b[0mb2\u001b[0m\u001b[0;34m,\u001b[0m\u001b[0margs\u001b[0m\u001b[0;34m=\u001b[0m\u001b[0mmyargs\u001b[0m\u001b[0;34m)\u001b[0m\u001b[0;34m[\u001b[0m\u001b[0;36m0\u001b[0m\u001b[0;34m]\u001b[0m\u001b[0;34m\u001b[0m\u001b[0m\n\u001b[0m\u001b[1;32m    432\u001b[0m \u001b[0;34m\u001b[0m\u001b[0m\n\u001b[1;32m    433\u001b[0m def tplquad(func, a, b, gfun, hfun, qfun, rfun, args=(), epsabs=1.49e-8,\n",
        "\u001b[0;32m/usr/lib/python2.7/dist-packages/scipy/integrate/quadpack.pyc\u001b[0m in \u001b[0;36mquad\u001b[0;34m(func, a, b, args, full_output, epsabs, epsrel, limit, points, weight, wvar, wopts, maxp1, limlst)\u001b[0m\n\u001b[1;32m    245\u001b[0m     \u001b[0;32mif\u001b[0m \u001b[0mtype\u001b[0m\u001b[0;34m(\u001b[0m\u001b[0margs\u001b[0m\u001b[0;34m)\u001b[0m \u001b[0;34m!=\u001b[0m \u001b[0mtype\u001b[0m\u001b[0;34m(\u001b[0m\u001b[0;34m(\u001b[0m\u001b[0;34m)\u001b[0m\u001b[0;34m)\u001b[0m\u001b[0;34m:\u001b[0m \u001b[0margs\u001b[0m \u001b[0;34m=\u001b[0m \u001b[0;34m(\u001b[0m\u001b[0margs\u001b[0m\u001b[0;34m,\u001b[0m\u001b[0;34m)\u001b[0m\u001b[0;34m\u001b[0m\u001b[0m\n\u001b[1;32m    246\u001b[0m     \u001b[0;32mif\u001b[0m \u001b[0;34m(\u001b[0m\u001b[0mweight\u001b[0m \u001b[0;32mis\u001b[0m \u001b[0mNone\u001b[0m\u001b[0;34m)\u001b[0m\u001b[0;34m:\u001b[0m\u001b[0;34m\u001b[0m\u001b[0m\n\u001b[0;32m--> 247\u001b[0;31m         \u001b[0mretval\u001b[0m \u001b[0;34m=\u001b[0m \u001b[0m_quad\u001b[0m\u001b[0;34m(\u001b[0m\u001b[0mfunc\u001b[0m\u001b[0;34m,\u001b[0m\u001b[0ma\u001b[0m\u001b[0;34m,\u001b[0m\u001b[0mb\u001b[0m\u001b[0;34m,\u001b[0m\u001b[0margs\u001b[0m\u001b[0;34m,\u001b[0m\u001b[0mfull_output\u001b[0m\u001b[0;34m,\u001b[0m\u001b[0mepsabs\u001b[0m\u001b[0;34m,\u001b[0m\u001b[0mepsrel\u001b[0m\u001b[0;34m,\u001b[0m\u001b[0mlimit\u001b[0m\u001b[0;34m,\u001b[0m\u001b[0mpoints\u001b[0m\u001b[0;34m)\u001b[0m\u001b[0;34m\u001b[0m\u001b[0m\n\u001b[0m\u001b[1;32m    248\u001b[0m     \u001b[0;32melse\u001b[0m\u001b[0;34m:\u001b[0m\u001b[0;34m\u001b[0m\u001b[0m\n\u001b[1;32m    249\u001b[0m         \u001b[0mretval\u001b[0m \u001b[0;34m=\u001b[0m \u001b[0m_quad_weight\u001b[0m\u001b[0;34m(\u001b[0m\u001b[0mfunc\u001b[0m\u001b[0;34m,\u001b[0m\u001b[0ma\u001b[0m\u001b[0;34m,\u001b[0m\u001b[0mb\u001b[0m\u001b[0;34m,\u001b[0m\u001b[0margs\u001b[0m\u001b[0;34m,\u001b[0m\u001b[0mfull_output\u001b[0m\u001b[0;34m,\u001b[0m\u001b[0mepsabs\u001b[0m\u001b[0;34m,\u001b[0m\u001b[0mepsrel\u001b[0m\u001b[0;34m,\u001b[0m\u001b[0mlimlst\u001b[0m\u001b[0;34m,\u001b[0m\u001b[0mlimit\u001b[0m\u001b[0;34m,\u001b[0m\u001b[0mmaxp1\u001b[0m\u001b[0;34m,\u001b[0m\u001b[0mweight\u001b[0m\u001b[0;34m,\u001b[0m\u001b[0mwvar\u001b[0m\u001b[0;34m,\u001b[0m\u001b[0mwopts\u001b[0m\u001b[0;34m)\u001b[0m\u001b[0;34m\u001b[0m\u001b[0m\n",
        "\u001b[0;32m/usr/lib/python2.7/dist-packages/scipy/integrate/quadpack.pyc\u001b[0m in \u001b[0;36m_quad\u001b[0;34m(func, a, b, args, full_output, epsabs, epsrel, limit, points)\u001b[0m\n\u001b[1;32m    310\u001b[0m     \u001b[0;32mif\u001b[0m \u001b[0mpoints\u001b[0m \u001b[0;32mis\u001b[0m \u001b[0mNone\u001b[0m\u001b[0;34m:\u001b[0m\u001b[0;34m\u001b[0m\u001b[0m\n\u001b[1;32m    311\u001b[0m         \u001b[0;32mif\u001b[0m \u001b[0minfbounds\u001b[0m \u001b[0;34m==\u001b[0m \u001b[0;36m0\u001b[0m\u001b[0;34m:\u001b[0m\u001b[0;34m\u001b[0m\u001b[0m\n\u001b[0;32m--> 312\u001b[0;31m             \u001b[0;32mreturn\u001b[0m \u001b[0m_quadpack\u001b[0m\u001b[0;34m.\u001b[0m\u001b[0m_qagse\u001b[0m\u001b[0;34m(\u001b[0m\u001b[0mfunc\u001b[0m\u001b[0;34m,\u001b[0m\u001b[0ma\u001b[0m\u001b[0;34m,\u001b[0m\u001b[0mb\u001b[0m\u001b[0;34m,\u001b[0m\u001b[0margs\u001b[0m\u001b[0;34m,\u001b[0m\u001b[0mfull_output\u001b[0m\u001b[0;34m,\u001b[0m\u001b[0mepsabs\u001b[0m\u001b[0;34m,\u001b[0m\u001b[0mepsrel\u001b[0m\u001b[0;34m,\u001b[0m\u001b[0mlimit\u001b[0m\u001b[0;34m)\u001b[0m\u001b[0;34m\u001b[0m\u001b[0m\n\u001b[0m\u001b[1;32m    313\u001b[0m         \u001b[0;32melse\u001b[0m\u001b[0;34m:\u001b[0m\u001b[0;34m\u001b[0m\u001b[0m\n\u001b[1;32m    314\u001b[0m             \u001b[0;32mreturn\u001b[0m \u001b[0m_quadpack\u001b[0m\u001b[0;34m.\u001b[0m\u001b[0m_qagie\u001b[0m\u001b[0;34m(\u001b[0m\u001b[0mfunc\u001b[0m\u001b[0;34m,\u001b[0m\u001b[0mbound\u001b[0m\u001b[0;34m,\u001b[0m\u001b[0minfbounds\u001b[0m\u001b[0;34m,\u001b[0m\u001b[0margs\u001b[0m\u001b[0;34m,\u001b[0m\u001b[0mfull_output\u001b[0m\u001b[0;34m,\u001b[0m\u001b[0mepsabs\u001b[0m\u001b[0;34m,\u001b[0m\u001b[0mepsrel\u001b[0m\u001b[0;34m,\u001b[0m\u001b[0mlimit\u001b[0m\u001b[0;34m)\u001b[0m\u001b[0;34m\u001b[0m\u001b[0m\n",
        "\u001b[0;31merror\u001b[0m: Supplied function does not return a valid float."
       ]
      },
      {
       "output_type": "stream",
       "stream": "stdout",
       "text": [
        "(0.4*x - 0.48)*exp(-0.2*(x - 1.2)**2 - 0.2*(y - 2.3)**2 - 0.2*(z - 3.4)**2)*exp(-0.3*(x + 1.3)**2 - 0.3*(y - 1.4)**2 - 0.3*(z + 2.4)**2)\n"
       ]
      }
     ],
     "prompt_number": 14
    },
    {
     "cell_type": "code",
     "collapsed": false,
     "input": [],
     "language": "python",
     "metadata": {},
     "outputs": []
    }
   ],
   "metadata": {}
  }
 ]
}